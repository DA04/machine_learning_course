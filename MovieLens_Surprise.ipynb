{
  "nbformat": 4,
  "nbformat_minor": 0,
  "metadata": {
    "colab": {
      "provenance": [],
      "authorship_tag": "ABX9TyMqffnq19rgLNxZcDOWFm0s",
      "include_colab_link": true
    },
    "kernelspec": {
      "name": "python3",
      "display_name": "Python 3"
    },
    "language_info": {
      "name": "python"
    }
  },
  "cells": [
    {
      "cell_type": "markdown",
      "metadata": {
        "id": "view-in-github",
        "colab_type": "text"
      },
      "source": [
        "<a href=\"https://colab.research.google.com/github/DA04/machine_learning_course/blob/main/MovieLens_Surprise.ipynb\" target=\"_parent\"><img src=\"https://colab.research.google.com/assets/colab-badge.svg\" alt=\"Open In Colab\"/></a>"
      ]
    },
    {
      "cell_type": "markdown",
      "source": [
        "Пакет SURPRISE:\n",
        "\n",
        "*  используйте данные MovieLens 1M\n",
        "*  можно использовать любые модели из пакета\n",
        "*  получите RMSE на тестовом сете 0,87 и ниже\n",
        "\n",
        "Комментарий преподавателя:\n",
        "В домашнем задании на датасет 1М может не хватить RAM. Можно сделать на 100K. Качество RMSE предлагаю считать на основе Cross-validation (5 фолдов), а не на отложенном датасете\n",
        "\n",
        "Данные берете из таблицы ratings.csv (там рейтинг выставлен конкретным пользователем на конкретный фильм) и используете разные алгоритмы из пакета surprise, нужно получить метрику RMSE на кросс-валидации ниже, чем 87"
      ],
      "metadata": {
        "id": "ytSkjwmMu4sv"
      }
    },
    {
      "cell_type": "code",
      "execution_count": 2,
      "metadata": {
        "colab": {
          "base_uri": "https://localhost:8080/"
        },
        "id": "ST7JwFCDtumT",
        "outputId": "72e1ea94-6c53-47a4-fdee-7f25314fa014"
      },
      "outputs": [
        {
          "output_type": "stream",
          "name": "stdout",
          "text": [
            "--2023-05-04 12:24:56--  https://files.grouplens.org/datasets/movielens/ml-latest-small.zip\n",
            "Resolving files.grouplens.org (files.grouplens.org)... 128.101.65.152\n",
            "Connecting to files.grouplens.org (files.grouplens.org)|128.101.65.152|:443... connected.\n",
            "HTTP request sent, awaiting response... 200 OK\n",
            "Length: 978202 (955K) [application/zip]\n",
            "Saving to: ‘ml-latest-small.zip’\n",
            "\n",
            "ml-latest-small.zip 100%[===================>] 955.28K   941KB/s    in 1.0s    \n",
            "\n",
            "2023-05-04 12:24:59 (941 KB/s) - ‘ml-latest-small.zip’ saved [978202/978202]\n",
            "\n"
          ]
        }
      ],
      "source": [
        "!wget https://files.grouplens.org/datasets/movielens/ml-latest-small.zip"
      ]
    },
    {
      "cell_type": "code",
      "source": [
        "!unzip ml-latest-small.zip"
      ],
      "metadata": {
        "colab": {
          "base_uri": "https://localhost:8080/"
        },
        "id": "CiAvff9euRvW",
        "outputId": "65b2ac95-e164-4da3-b125-d21d1a4490d7"
      },
      "execution_count": 3,
      "outputs": [
        {
          "output_type": "stream",
          "name": "stdout",
          "text": [
            "Archive:  ml-latest-small.zip\n",
            "   creating: ml-latest-small/\n",
            "  inflating: ml-latest-small/links.csv  \n",
            "  inflating: ml-latest-small/tags.csv  \n",
            "  inflating: ml-latest-small/ratings.csv  \n",
            "  inflating: ml-latest-small/README.txt  \n",
            "  inflating: ml-latest-small/movies.csv  \n"
          ]
        }
      ]
    },
    {
      "cell_type": "code",
      "source": [
        "import pandas as pd\n",
        "import numpy as np"
      ],
      "metadata": {
        "id": "IluolDymujkc"
      },
      "execution_count": 4,
      "outputs": []
    },
    {
      "cell_type": "code",
      "source": [
        "ratings = pd.read_csv('ml-latest-small/ratings.csv')"
      ],
      "metadata": {
        "id": "yv2rtnvsuXWk"
      },
      "execution_count": 17,
      "outputs": []
    },
    {
      "cell_type": "code",
      "source": [
        "ratings.head()"
      ],
      "metadata": {
        "colab": {
          "base_uri": "https://localhost:8080/",
          "height": 206
        },
        "id": "z-Pqo23huwy1",
        "outputId": "2a8f0ce4-2e6f-48d4-d35b-837047f68f8e"
      },
      "execution_count": 18,
      "outputs": [
        {
          "output_type": "execute_result",
          "data": {
            "text/plain": [
              "   userId  movieId  rating  timestamp\n",
              "0       1        1     4.0  964982703\n",
              "1       1        3     4.0  964981247\n",
              "2       1        6     4.0  964982224\n",
              "3       1       47     5.0  964983815\n",
              "4       1       50     5.0  964982931"
            ],
            "text/html": [
              "\n",
              "  <div id=\"df-08cd4bb1-3373-468d-91e7-9bea5f9e080a\">\n",
              "    <div class=\"colab-df-container\">\n",
              "      <div>\n",
              "<style scoped>\n",
              "    .dataframe tbody tr th:only-of-type {\n",
              "        vertical-align: middle;\n",
              "    }\n",
              "\n",
              "    .dataframe tbody tr th {\n",
              "        vertical-align: top;\n",
              "    }\n",
              "\n",
              "    .dataframe thead th {\n",
              "        text-align: right;\n",
              "    }\n",
              "</style>\n",
              "<table border=\"1\" class=\"dataframe\">\n",
              "  <thead>\n",
              "    <tr style=\"text-align: right;\">\n",
              "      <th></th>\n",
              "      <th>userId</th>\n",
              "      <th>movieId</th>\n",
              "      <th>rating</th>\n",
              "      <th>timestamp</th>\n",
              "    </tr>\n",
              "  </thead>\n",
              "  <tbody>\n",
              "    <tr>\n",
              "      <th>0</th>\n",
              "      <td>1</td>\n",
              "      <td>1</td>\n",
              "      <td>4.0</td>\n",
              "      <td>964982703</td>\n",
              "    </tr>\n",
              "    <tr>\n",
              "      <th>1</th>\n",
              "      <td>1</td>\n",
              "      <td>3</td>\n",
              "      <td>4.0</td>\n",
              "      <td>964981247</td>\n",
              "    </tr>\n",
              "    <tr>\n",
              "      <th>2</th>\n",
              "      <td>1</td>\n",
              "      <td>6</td>\n",
              "      <td>4.0</td>\n",
              "      <td>964982224</td>\n",
              "    </tr>\n",
              "    <tr>\n",
              "      <th>3</th>\n",
              "      <td>1</td>\n",
              "      <td>47</td>\n",
              "      <td>5.0</td>\n",
              "      <td>964983815</td>\n",
              "    </tr>\n",
              "    <tr>\n",
              "      <th>4</th>\n",
              "      <td>1</td>\n",
              "      <td>50</td>\n",
              "      <td>5.0</td>\n",
              "      <td>964982931</td>\n",
              "    </tr>\n",
              "  </tbody>\n",
              "</table>\n",
              "</div>\n",
              "      <button class=\"colab-df-convert\" onclick=\"convertToInteractive('df-08cd4bb1-3373-468d-91e7-9bea5f9e080a')\"\n",
              "              title=\"Convert this dataframe to an interactive table.\"\n",
              "              style=\"display:none;\">\n",
              "        \n",
              "  <svg xmlns=\"http://www.w3.org/2000/svg\" height=\"24px\"viewBox=\"0 0 24 24\"\n",
              "       width=\"24px\">\n",
              "    <path d=\"M0 0h24v24H0V0z\" fill=\"none\"/>\n",
              "    <path d=\"M18.56 5.44l.94 2.06.94-2.06 2.06-.94-2.06-.94-.94-2.06-.94 2.06-2.06.94zm-11 1L8.5 8.5l.94-2.06 2.06-.94-2.06-.94L8.5 2.5l-.94 2.06-2.06.94zm10 10l.94 2.06.94-2.06 2.06-.94-2.06-.94-.94-2.06-.94 2.06-2.06.94z\"/><path d=\"M17.41 7.96l-1.37-1.37c-.4-.4-.92-.59-1.43-.59-.52 0-1.04.2-1.43.59L10.3 9.45l-7.72 7.72c-.78.78-.78 2.05 0 2.83L4 21.41c.39.39.9.59 1.41.59.51 0 1.02-.2 1.41-.59l7.78-7.78 2.81-2.81c.8-.78.8-2.07 0-2.86zM5.41 20L4 18.59l7.72-7.72 1.47 1.35L5.41 20z\"/>\n",
              "  </svg>\n",
              "      </button>\n",
              "      \n",
              "  <style>\n",
              "    .colab-df-container {\n",
              "      display:flex;\n",
              "      flex-wrap:wrap;\n",
              "      gap: 12px;\n",
              "    }\n",
              "\n",
              "    .colab-df-convert {\n",
              "      background-color: #E8F0FE;\n",
              "      border: none;\n",
              "      border-radius: 50%;\n",
              "      cursor: pointer;\n",
              "      display: none;\n",
              "      fill: #1967D2;\n",
              "      height: 32px;\n",
              "      padding: 0 0 0 0;\n",
              "      width: 32px;\n",
              "    }\n",
              "\n",
              "    .colab-df-convert:hover {\n",
              "      background-color: #E2EBFA;\n",
              "      box-shadow: 0px 1px 2px rgba(60, 64, 67, 0.3), 0px 1px 3px 1px rgba(60, 64, 67, 0.15);\n",
              "      fill: #174EA6;\n",
              "    }\n",
              "\n",
              "    [theme=dark] .colab-df-convert {\n",
              "      background-color: #3B4455;\n",
              "      fill: #D2E3FC;\n",
              "    }\n",
              "\n",
              "    [theme=dark] .colab-df-convert:hover {\n",
              "      background-color: #434B5C;\n",
              "      box-shadow: 0px 1px 3px 1px rgba(0, 0, 0, 0.15);\n",
              "      filter: drop-shadow(0px 1px 2px rgba(0, 0, 0, 0.3));\n",
              "      fill: #FFFFFF;\n",
              "    }\n",
              "  </style>\n",
              "\n",
              "      <script>\n",
              "        const buttonEl =\n",
              "          document.querySelector('#df-08cd4bb1-3373-468d-91e7-9bea5f9e080a button.colab-df-convert');\n",
              "        buttonEl.style.display =\n",
              "          google.colab.kernel.accessAllowed ? 'block' : 'none';\n",
              "\n",
              "        async function convertToInteractive(key) {\n",
              "          const element = document.querySelector('#df-08cd4bb1-3373-468d-91e7-9bea5f9e080a');\n",
              "          const dataTable =\n",
              "            await google.colab.kernel.invokeFunction('convertToInteractive',\n",
              "                                                     [key], {});\n",
              "          if (!dataTable) return;\n",
              "\n",
              "          const docLinkHtml = 'Like what you see? Visit the ' +\n",
              "            '<a target=\"_blank\" href=https://colab.research.google.com/notebooks/data_table.ipynb>data table notebook</a>'\n",
              "            + ' to learn more about interactive tables.';\n",
              "          element.innerHTML = '';\n",
              "          dataTable['output_type'] = 'display_data';\n",
              "          await google.colab.output.renderOutput(dataTable, element);\n",
              "          const docLink = document.createElement('div');\n",
              "          docLink.innerHTML = docLinkHtml;\n",
              "          element.appendChild(docLink);\n",
              "        }\n",
              "      </script>\n",
              "    </div>\n",
              "  </div>\n",
              "  "
            ]
          },
          "metadata": {},
          "execution_count": 18
        }
      ]
    },
    {
      "cell_type": "code",
      "source": [
        "!pip install surprise"
      ],
      "metadata": {
        "colab": {
          "base_uri": "https://localhost:8080/"
        },
        "id": "k47pce05vddQ",
        "outputId": "1739e954-377a-493e-e41c-307c27351373"
      },
      "execution_count": 8,
      "outputs": [
        {
          "output_type": "stream",
          "name": "stdout",
          "text": [
            "Looking in indexes: https://pypi.org/simple, https://us-python.pkg.dev/colab-wheels/public/simple/\n",
            "Collecting surprise\n",
            "  Downloading surprise-0.1-py2.py3-none-any.whl (1.8 kB)\n",
            "Collecting scikit-surprise\n",
            "  Downloading scikit-surprise-1.1.3.tar.gz (771 kB)\n",
            "\u001b[2K     \u001b[90m━━━━━━━━━━━━━━━━━━━━━━━━━━━━━━━━━━━━━━\u001b[0m \u001b[32m772.0/772.0 kB\u001b[0m \u001b[31m11.1 MB/s\u001b[0m eta \u001b[36m0:00:00\u001b[0m\n",
            "\u001b[?25h  Preparing metadata (setup.py) ... \u001b[?25l\u001b[?25hdone\n",
            "Requirement already satisfied: joblib>=1.0.0 in /usr/local/lib/python3.10/dist-packages (from scikit-surprise->surprise) (1.2.0)\n",
            "Requirement already satisfied: numpy>=1.17.3 in /usr/local/lib/python3.10/dist-packages (from scikit-surprise->surprise) (1.22.4)\n",
            "Requirement already satisfied: scipy>=1.3.2 in /usr/local/lib/python3.10/dist-packages (from scikit-surprise->surprise) (1.10.1)\n",
            "Building wheels for collected packages: scikit-surprise\n",
            "  Building wheel for scikit-surprise (setup.py) ... \u001b[?25l\u001b[?25hdone\n",
            "  Created wheel for scikit-surprise: filename=scikit_surprise-1.1.3-cp310-cp310-linux_x86_64.whl size=3095416 sha256=223dbc1b45d9ebea03fbc85d003b13f4dd4b3418f7446fd9dad8a1263925c6de\n",
            "  Stored in directory: /root/.cache/pip/wheels/a5/ca/a8/4e28def53797fdc4363ca4af740db15a9c2f1595ebc51fb445\n",
            "Successfully built scikit-surprise\n",
            "Installing collected packages: scikit-surprise, surprise\n",
            "Successfully installed scikit-surprise-1.1.3 surprise-0.1\n"
          ]
        }
      ]
    },
    {
      "cell_type": "code",
      "source": [
        "from surprise import KNNWithMeans, KNNBasic\n",
        "from surprise import NormalPredictor, BaselineOnly\n",
        "from surprise import SVD, NMF, SVDpp\n",
        "from surprise import Dataset\n",
        "from surprise import accuracy\n",
        "from surprise import Reader\n",
        "from surprise.model_selection import train_test_split\n",
        "from surprise.model_selection import cross_validate"
      ],
      "metadata": {
        "id": "tlDt7FDSwmTj"
      },
      "execution_count": 43,
      "outputs": []
    },
    {
      "cell_type": "code",
      "source": [
        "ratings.rating.min()"
      ],
      "metadata": {
        "colab": {
          "base_uri": "https://localhost:8080/"
        },
        "id": "-hW2XC0MzOBF",
        "outputId": "4855c44e-62d3-4f73-a15e-b90f60972785"
      },
      "execution_count": 19,
      "outputs": [
        {
          "output_type": "execute_result",
          "data": {
            "text/plain": [
              "0.5"
            ]
          },
          "metadata": {},
          "execution_count": 19
        }
      ]
    },
    {
      "cell_type": "code",
      "source": [
        "ratings.rating.max()"
      ],
      "metadata": {
        "colab": {
          "base_uri": "https://localhost:8080/"
        },
        "id": "lLRUu8r5zXHn",
        "outputId": "be8a38f0-905f-4e16-df2e-c004218a1d33"
      },
      "execution_count": 20,
      "outputs": [
        {
          "output_type": "execute_result",
          "data": {
            "text/plain": [
              "5.0"
            ]
          },
          "metadata": {},
          "execution_count": 20
        }
      ]
    },
    {
      "cell_type": "code",
      "source": [
        "data = Dataset.load_from_df(ratings[['userId', 'movieId', 'rating']], Reader(rating_scale=(0.5, 5.0)))"
      ],
      "metadata": {
        "id": "h0ozHMryzad5"
      },
      "execution_count": 21,
      "outputs": []
    },
    {
      "cell_type": "code",
      "source": [
        "trainset, testset = train_test_split(data, test_size=0.2, random_state=42)"
      ],
      "metadata": {
        "id": "1NSMw3eTz0f-"
      },
      "execution_count": 23,
      "outputs": []
    },
    {
      "cell_type": "markdown",
      "source": [
        "**KNNWithMeans**"
      ],
      "metadata": {
        "id": "UfXX-LzX0WjY"
      }
    },
    {
      "cell_type": "code",
      "source": [
        "algo = KNNWithMeans(k=50, sim_options={\n",
        "    'name': 'cosine',\n",
        "    'user_based': True  # compute  similarities between users\n",
        "})\n",
        "algo.fit(trainset)"
      ],
      "metadata": {
        "colab": {
          "base_uri": "https://localhost:8080/"
        },
        "id": "Twe4rZBgz8f2",
        "outputId": "e8769aa7-fc40-429a-be0f-b0a59d1eb0ac"
      },
      "execution_count": 24,
      "outputs": [
        {
          "output_type": "stream",
          "name": "stdout",
          "text": [
            "Computing the cosine similarity matrix...\n",
            "Done computing similarity matrix.\n"
          ]
        },
        {
          "output_type": "execute_result",
          "data": {
            "text/plain": [
              "<surprise.prediction_algorithms.knns.KNNWithMeans at 0x7f265a6ae5c0>"
            ]
          },
          "metadata": {},
          "execution_count": 24
        }
      ]
    },
    {
      "cell_type": "code",
      "source": [
        "test_pred = algo.test(testset)\n",
        "accuracy.rmse(test_pred, verbose=True)"
      ],
      "metadata": {
        "colab": {
          "base_uri": "https://localhost:8080/"
        },
        "id": "agR3g6Wf0Bed",
        "outputId": "51a6a22f-002b-4c6c-cb4d-85c00a448b40"
      },
      "execution_count": 25,
      "outputs": [
        {
          "output_type": "stream",
          "name": "stdout",
          "text": [
            "RMSE: 0.9075\n"
          ]
        },
        {
          "output_type": "execute_result",
          "data": {
            "text/plain": [
              "0.9075221620574209"
            ]
          },
          "metadata": {},
          "execution_count": 25
        }
      ]
    },
    {
      "cell_type": "code",
      "source": [
        "cross_validate(algo, data, measures=['RMSE', 'MAE'], cv=5, verbose=True)"
      ],
      "metadata": {
        "colab": {
          "base_uri": "https://localhost:8080/"
        },
        "id": "1_n6DhJX0JFz",
        "outputId": "60ddaf49-4275-4243-8b96-d976bda43f9d"
      },
      "execution_count": 27,
      "outputs": [
        {
          "output_type": "stream",
          "name": "stdout",
          "text": [
            "Computing the cosine similarity matrix...\n",
            "Done computing similarity matrix.\n",
            "Computing the cosine similarity matrix...\n",
            "Done computing similarity matrix.\n",
            "Computing the cosine similarity matrix...\n",
            "Done computing similarity matrix.\n",
            "Computing the cosine similarity matrix...\n",
            "Done computing similarity matrix.\n",
            "Computing the cosine similarity matrix...\n",
            "Done computing similarity matrix.\n",
            "Evaluating RMSE, MAE of algorithm KNNWithMeans on 5 split(s).\n",
            "\n",
            "                  Fold 1  Fold 2  Fold 3  Fold 4  Fold 5  Mean    Std     \n",
            "RMSE (testset)    0.9012  0.8926  0.9010  0.9063  0.9000  0.9002  0.0044  \n",
            "MAE (testset)     0.6895  0.6834  0.6886  0.6932  0.6875  0.6884  0.0032  \n",
            "Fit time          0.19    0.22    0.20    0.20    0.31    0.23    0.04    \n",
            "Test time         1.47    1.49    1.59    2.26    1.69    1.70    0.29    \n"
          ]
        },
        {
          "output_type": "execute_result",
          "data": {
            "text/plain": [
              "{'test_rmse': array([0.90120509, 0.89259414, 0.90101556, 0.90633204, 0.89999792]),\n",
              " 'test_mae': array([0.68954271, 0.68335805, 0.68858516, 0.69316847, 0.687495  ]),\n",
              " 'fit_time': (0.18842720985412598,\n",
              "  0.21733307838439941,\n",
              "  0.2046806812286377,\n",
              "  0.20426559448242188,\n",
              "  0.31284594535827637),\n",
              " 'test_time': (1.4678981304168701,\n",
              "  1.4892799854278564,\n",
              "  1.5934157371520996,\n",
              "  2.258283853530884,\n",
              "  1.689312219619751)}"
            ]
          },
          "metadata": {},
          "execution_count": 27
        }
      ]
    },
    {
      "cell_type": "markdown",
      "source": [
        "**KNNBasic**"
      ],
      "metadata": {
        "id": "3P9s0OrT1D1c"
      }
    },
    {
      "cell_type": "code",
      "source": [
        "algo = KNNBasic(k=40, sim_options={\n",
        "    'name': 'cosine',\n",
        "    'user_based': True  # compute  similarities between users\n",
        "})\n",
        "algo.fit(trainset)"
      ],
      "metadata": {
        "colab": {
          "base_uri": "https://localhost:8080/"
        },
        "id": "1tYSNCpj0cMw",
        "outputId": "056695d3-45e1-4d13-947f-908df7502ae0"
      },
      "execution_count": 28,
      "outputs": [
        {
          "output_type": "stream",
          "name": "stdout",
          "text": [
            "Computing the cosine similarity matrix...\n",
            "Done computing similarity matrix.\n"
          ]
        },
        {
          "output_type": "execute_result",
          "data": {
            "text/plain": [
              "<surprise.prediction_algorithms.knns.KNNBasic at 0x7f2659adbfd0>"
            ]
          },
          "metadata": {},
          "execution_count": 28
        }
      ]
    },
    {
      "cell_type": "code",
      "source": [
        "test_pred = algo.test(testset)\n",
        "accuracy.rmse(test_pred, verbose=True)"
      ],
      "metadata": {
        "colab": {
          "base_uri": "https://localhost:8080/"
        },
        "id": "izANtRMe0toY",
        "outputId": "a79e8e75-8640-4bd1-fda1-892dd4091f00"
      },
      "execution_count": 29,
      "outputs": [
        {
          "output_type": "stream",
          "name": "stdout",
          "text": [
            "RMSE: 0.9823\n"
          ]
        },
        {
          "output_type": "execute_result",
          "data": {
            "text/plain": [
              "0.9822558142846856"
            ]
          },
          "metadata": {},
          "execution_count": 29
        }
      ]
    },
    {
      "cell_type": "code",
      "source": [
        "cross_validate(algo, data, measures=['RMSE', 'MAE'], cv=5, verbose=True)"
      ],
      "metadata": {
        "colab": {
          "base_uri": "https://localhost:8080/"
        },
        "id": "YRFG9RR20wCp",
        "outputId": "f1953026-df5c-41de-8dbc-1596c404bab2"
      },
      "execution_count": 30,
      "outputs": [
        {
          "output_type": "stream",
          "name": "stdout",
          "text": [
            "Computing the cosine similarity matrix...\n",
            "Done computing similarity matrix.\n",
            "Computing the cosine similarity matrix...\n",
            "Done computing similarity matrix.\n",
            "Computing the cosine similarity matrix...\n",
            "Done computing similarity matrix.\n",
            "Computing the cosine similarity matrix...\n",
            "Done computing similarity matrix.\n",
            "Computing the cosine similarity matrix...\n",
            "Done computing similarity matrix.\n",
            "Evaluating RMSE, MAE of algorithm KNNBasic on 5 split(s).\n",
            "\n",
            "                  Fold 1  Fold 2  Fold 3  Fold 4  Fold 5  Mean    Std     \n",
            "RMSE (testset)    0.9712  0.9657  0.9722  0.9756  0.9737  0.9717  0.0033  \n",
            "MAE (testset)     0.7463  0.7455  0.7515  0.7499  0.7492  0.7485  0.0022  \n",
            "Fit time          0.15    0.18    0.27    0.20    0.19    0.20    0.04    \n",
            "Test time         1.52    2.12    1.63    1.35    1.49    1.62    0.26    \n"
          ]
        },
        {
          "output_type": "execute_result",
          "data": {
            "text/plain": [
              "{'test_rmse': array([0.97119638, 0.96571851, 0.97219282, 0.97563831, 0.97373471]),\n",
              " 'test_mae': array([0.74626263, 0.7455444 , 0.75152561, 0.74986592, 0.74918979]),\n",
              " 'fit_time': (0.1507575511932373,\n",
              "  0.1780250072479248,\n",
              "  0.2655947208404541,\n",
              "  0.2029128074645996,\n",
              "  0.18600964546203613),\n",
              " 'test_time': (1.522313117980957,\n",
              "  2.119673728942871,\n",
              "  1.6251726150512695,\n",
              "  1.352959394454956,\n",
              "  1.489854097366333)}"
            ]
          },
          "metadata": {},
          "execution_count": 30
        }
      ]
    },
    {
      "cell_type": "markdown",
      "source": [
        "**NormalPredictor**"
      ],
      "metadata": {
        "id": "9_kjUkre1HTq"
      }
    },
    {
      "cell_type": "code",
      "source": [
        "algo = NormalPredictor()\n",
        "algo.fit(trainset)"
      ],
      "metadata": {
        "colab": {
          "base_uri": "https://localhost:8080/"
        },
        "id": "FmNX_2Tc1LJk",
        "outputId": "41eab694-1192-498c-9916-d33f1f44072e"
      },
      "execution_count": 31,
      "outputs": [
        {
          "output_type": "execute_result",
          "data": {
            "text/plain": [
              "<surprise.prediction_algorithms.random_pred.NormalPredictor at 0x7f265a628b20>"
            ]
          },
          "metadata": {},
          "execution_count": 31
        }
      ]
    },
    {
      "cell_type": "code",
      "source": [
        "test_pred = algo.test(testset)\n",
        "accuracy.rmse(test_pred, verbose=True)"
      ],
      "metadata": {
        "colab": {
          "base_uri": "https://localhost:8080/"
        },
        "id": "Yjcw9quU1VZQ",
        "outputId": "1596c326-39d9-44bb-a6a6-c5e19f939222"
      },
      "execution_count": 32,
      "outputs": [
        {
          "output_type": "stream",
          "name": "stdout",
          "text": [
            "RMSE: 1.4304\n"
          ]
        },
        {
          "output_type": "execute_result",
          "data": {
            "text/plain": [
              "1.4303502028779382"
            ]
          },
          "metadata": {},
          "execution_count": 32
        }
      ]
    },
    {
      "cell_type": "code",
      "source": [
        "cross_validate(algo, data, measures=['RMSE', 'MAE'], cv=5, verbose=True)"
      ],
      "metadata": {
        "colab": {
          "base_uri": "https://localhost:8080/"
        },
        "id": "wLCte3mc1XEo",
        "outputId": "9eddb725-cb58-4ce3-c201-a0566b491a8b"
      },
      "execution_count": 33,
      "outputs": [
        {
          "output_type": "stream",
          "name": "stdout",
          "text": [
            "Evaluating RMSE, MAE of algorithm NormalPredictor on 5 split(s).\n",
            "\n",
            "                  Fold 1  Fold 2  Fold 3  Fold 4  Fold 5  Mean    Std     \n",
            "RMSE (testset)    1.4270  1.4280  1.4158  1.4115  1.4264  1.4217  0.0068  \n",
            "MAE (testset)     1.1375  1.1403  1.1290  1.1293  1.1384  1.1349  0.0048  \n",
            "Fit time          0.29    0.14    0.14    0.14    0.15    0.17    0.06    \n",
            "Test time         0.33    0.12    0.28    0.11    0.11    0.19    0.09    \n"
          ]
        },
        {
          "output_type": "execute_result",
          "data": {
            "text/plain": [
              "{'test_rmse': array([1.42699202, 1.42804869, 1.41578861, 1.41148662, 1.42642424]),\n",
              " 'test_mae': array([1.13754485, 1.1403226 , 1.12898629, 1.12931883, 1.13838344]),\n",
              " 'fit_time': (0.29073381423950195,\n",
              "  0.14270639419555664,\n",
              "  0.14129304885864258,\n",
              "  0.13891386985778809,\n",
              "  0.1467750072479248),\n",
              " 'test_time': (0.3284749984741211,\n",
              "  0.12328791618347168,\n",
              "  0.2842137813568115,\n",
              "  0.11410951614379883,\n",
              "  0.11187553405761719)}"
            ]
          },
          "metadata": {},
          "execution_count": 33
        }
      ]
    },
    {
      "cell_type": "markdown",
      "source": [
        "**BaselineOnly**"
      ],
      "metadata": {
        "id": "EmuDHnhh1a4F"
      }
    },
    {
      "cell_type": "code",
      "source": [
        "algo = BaselineOnly()\n",
        "algo.fit(trainset)"
      ],
      "metadata": {
        "colab": {
          "base_uri": "https://localhost:8080/"
        },
        "id": "2VWKLn5n1aYT",
        "outputId": "dcbe503a-db43-42c4-ce6b-e2a764e6d6dd"
      },
      "execution_count": 34,
      "outputs": [
        {
          "output_type": "stream",
          "name": "stdout",
          "text": [
            "Estimating biases using als...\n"
          ]
        },
        {
          "output_type": "execute_result",
          "data": {
            "text/plain": [
              "<surprise.prediction_algorithms.baseline_only.BaselineOnly at 0x7f265a628d30>"
            ]
          },
          "metadata": {},
          "execution_count": 34
        }
      ]
    },
    {
      "cell_type": "code",
      "source": [
        "test_pred = algo.test(testset)\n",
        "accuracy.rmse(test_pred, verbose=True)"
      ],
      "metadata": {
        "colab": {
          "base_uri": "https://localhost:8080/"
        },
        "id": "dHUdL5OQ1lmk",
        "outputId": "a44191a7-fa5d-4a56-925d-c1f0f9f7db90"
      },
      "execution_count": 35,
      "outputs": [
        {
          "output_type": "stream",
          "name": "stdout",
          "text": [
            "RMSE: 0.8785\n"
          ]
        },
        {
          "output_type": "execute_result",
          "data": {
            "text/plain": [
              "0.8785099023109141"
            ]
          },
          "metadata": {},
          "execution_count": 35
        }
      ]
    },
    {
      "cell_type": "code",
      "source": [
        "cross_validate(algo, data, measures=['RMSE', 'MAE'], cv=5, verbose=True)"
      ],
      "metadata": {
        "colab": {
          "base_uri": "https://localhost:8080/"
        },
        "id": "HBBiXect1nt5",
        "outputId": "e5603e10-fcd5-42d1-b0c4-c88ea7f2f3d9"
      },
      "execution_count": 36,
      "outputs": [
        {
          "output_type": "stream",
          "name": "stdout",
          "text": [
            "Estimating biases using als...\n",
            "Estimating biases using als...\n",
            "Estimating biases using als...\n",
            "Estimating biases using als...\n",
            "Estimating biases using als...\n",
            "Evaluating RMSE, MAE of algorithm BaselineOnly on 5 split(s).\n",
            "\n",
            "                  Fold 1  Fold 2  Fold 3  Fold 4  Fold 5  Mean    Std     \n",
            "RMSE (testset)    0.8764  0.8775  0.8725  0.8692  0.8672  0.8726  0.0040  \n",
            "MAE (testset)     0.6742  0.6752  0.6746  0.6699  0.6690  0.6726  0.0026  \n",
            "Fit time          0.37    0.39    0.41    0.40    0.41    0.39    0.01    \n",
            "Test time         0.07    0.07    0.07    0.07    0.07    0.07    0.00    \n"
          ]
        },
        {
          "output_type": "execute_result",
          "data": {
            "text/plain": [
              "{'test_rmse': array([0.87636104, 0.87754034, 0.87254404, 0.86921415, 0.86715334]),\n",
              " 'test_mae': array([0.67415585, 0.6751697 , 0.67455753, 0.66989364, 0.66904033]),\n",
              " 'fit_time': (0.37146759033203125,\n",
              "  0.39145851135253906,\n",
              "  0.4057962894439697,\n",
              "  0.3974778652191162,\n",
              "  0.4075043201446533),\n",
              " 'test_time': (0.07396507263183594,\n",
              "  0.07474923133850098,\n",
              "  0.07210350036621094,\n",
              "  0.07297563552856445,\n",
              "  0.07330703735351562)}"
            ]
          },
          "metadata": {},
          "execution_count": 36
        }
      ]
    },
    {
      "cell_type": "markdown",
      "source": [
        "**SVD**"
      ],
      "metadata": {
        "id": "oHRQqg8s1sW9"
      }
    },
    {
      "cell_type": "code",
      "source": [
        "algo = SVD()\n",
        "algo.fit(trainset)"
      ],
      "metadata": {
        "colab": {
          "base_uri": "https://localhost:8080/"
        },
        "id": "tLlRHlh41r16",
        "outputId": "1ae8f9d1-ebb4-4923-841b-58083c3f53d7"
      },
      "execution_count": 37,
      "outputs": [
        {
          "output_type": "execute_result",
          "data": {
            "text/plain": [
              "<surprise.prediction_algorithms.matrix_factorization.SVD at 0x7f265a4f1150>"
            ]
          },
          "metadata": {},
          "execution_count": 37
        }
      ]
    },
    {
      "cell_type": "code",
      "source": [
        "test_pred = algo.test(testset)\n",
        "accuracy.rmse(test_pred, verbose=True)"
      ],
      "metadata": {
        "colab": {
          "base_uri": "https://localhost:8080/"
        },
        "id": "CTiN7TL611Ut",
        "outputId": "f1a5eb18-bffd-4b1f-83a2-f3eff32c3c82"
      },
      "execution_count": 38,
      "outputs": [
        {
          "output_type": "stream",
          "name": "stdout",
          "text": [
            "RMSE: 0.8785\n"
          ]
        },
        {
          "output_type": "execute_result",
          "data": {
            "text/plain": [
              "0.8784804874598046"
            ]
          },
          "metadata": {},
          "execution_count": 38
        }
      ]
    },
    {
      "cell_type": "code",
      "source": [
        "cross_validate(algo, data, measures=['RMSE', 'MAE'], cv=5, verbose=True)"
      ],
      "metadata": {
        "colab": {
          "base_uri": "https://localhost:8080/"
        },
        "id": "DKK1F1c012o0",
        "outputId": "9f04b400-ec7a-4383-8aae-9f4310374c16"
      },
      "execution_count": 39,
      "outputs": [
        {
          "output_type": "stream",
          "name": "stdout",
          "text": [
            "Evaluating RMSE, MAE of algorithm SVD on 5 split(s).\n",
            "\n",
            "                  Fold 1  Fold 2  Fold 3  Fold 4  Fold 5  Mean    Std     \n",
            "RMSE (testset)    0.8801  0.8749  0.8794  0.8711  0.8687  0.8748  0.0045  \n",
            "MAE (testset)     0.6767  0.6709  0.6751  0.6695  0.6667  0.6718  0.0036  \n",
            "Fit time          1.36    1.38    1.42    1.39    1.39    1.39    0.02    \n",
            "Test time         0.13    0.31    0.15    0.31    0.13    0.21    0.09    \n"
          ]
        },
        {
          "output_type": "execute_result",
          "data": {
            "text/plain": [
              "{'test_rmse': array([0.88007995, 0.87488965, 0.87941364, 0.87107233, 0.86867525]),\n",
              " 'test_mae': array([0.67667608, 0.67090392, 0.67506601, 0.66949168, 0.66674397]),\n",
              " 'fit_time': (1.3576245307922363,\n",
              "  1.382486343383789,\n",
              "  1.4171504974365234,\n",
              "  1.394948959350586,\n",
              "  1.392585277557373),\n",
              " 'test_time': (0.13040518760681152,\n",
              "  0.311002254486084,\n",
              "  0.14711952209472656,\n",
              "  0.30906224250793457,\n",
              "  0.13286209106445312)}"
            ]
          },
          "metadata": {},
          "execution_count": 39
        }
      ]
    },
    {
      "cell_type": "markdown",
      "source": [
        "**SVD++**"
      ],
      "metadata": {
        "id": "ivxbmPPC2Z-M"
      }
    },
    {
      "cell_type": "code",
      "source": [
        "algo = SVDpp()\n",
        "algo.fit(trainset)"
      ],
      "metadata": {
        "colab": {
          "base_uri": "https://localhost:8080/"
        },
        "id": "9jmtlq1A2bq0",
        "outputId": "31e3e46e-49fc-4372-cd3f-26ca91137e80"
      },
      "execution_count": 46,
      "outputs": [
        {
          "output_type": "execute_result",
          "data": {
            "text/plain": [
              "<surprise.prediction_algorithms.matrix_factorization.SVDpp at 0x7f265a6afca0>"
            ]
          },
          "metadata": {},
          "execution_count": 46
        }
      ]
    },
    {
      "cell_type": "code",
      "source": [
        "test_pred = algo.test(testset)\n",
        "accuracy.rmse(test_pred, verbose=True)"
      ],
      "metadata": {
        "colab": {
          "base_uri": "https://localhost:8080/"
        },
        "id": "_tY-n_QA2ezx",
        "outputId": "52d4ed50-c53b-44f5-d3b5-ad7423af483f"
      },
      "execution_count": 47,
      "outputs": [
        {
          "output_type": "stream",
          "name": "stdout",
          "text": [
            "RMSE: 0.8643\n"
          ]
        },
        {
          "output_type": "execute_result",
          "data": {
            "text/plain": [
              "0.8642904871062059"
            ]
          },
          "metadata": {},
          "execution_count": 47
        }
      ]
    },
    {
      "cell_type": "code",
      "source": [
        "cross_validate(algo, data, measures=['RMSE', 'MAE'], cv=5, verbose=True)"
      ],
      "metadata": {
        "colab": {
          "base_uri": "https://localhost:8080/"
        },
        "id": "gjLhvdGK3aZq",
        "outputId": "b45db2ff-c3dc-44d9-b4bd-1931ddb67662"
      },
      "execution_count": 48,
      "outputs": [
        {
          "output_type": "stream",
          "name": "stdout",
          "text": [
            "Evaluating RMSE, MAE of algorithm SVDpp on 5 split(s).\n",
            "\n",
            "                  Fold 1  Fold 2  Fold 3  Fold 4  Fold 5  Mean    Std     \n",
            "RMSE (testset)    0.8669  0.8675  0.8669  0.8441  0.8611  0.8613  0.0089  \n",
            "MAE (testset)     0.6626  0.6674  0.6624  0.6489  0.6558  0.6594  0.0065  \n",
            "Fit time          97.77   97.45   97.34   96.70   96.13   97.08   0.59    \n",
            "Test time         11.33   10.85   11.71   11.65   11.25   11.36   0.31    \n"
          ]
        },
        {
          "output_type": "execute_result",
          "data": {
            "text/plain": [
              "{'test_rmse': array([0.86687854, 0.8675322 , 0.86691532, 0.84409062, 0.86113191]),\n",
              " 'test_mae': array([0.66255106, 0.66743599, 0.6624243 , 0.64885764, 0.65575212]),\n",
              " 'fit_time': (97.77122783660889,\n",
              "  97.4493191242218,\n",
              "  97.33537006378174,\n",
              "  96.69618654251099,\n",
              "  96.12556433677673),\n",
              " 'test_time': (11.32949948310852,\n",
              "  10.852134227752686,\n",
              "  11.711177349090576,\n",
              "  11.651665925979614,\n",
              "  11.254899740219116)}"
            ]
          },
          "metadata": {},
          "execution_count": 48
        }
      ]
    },
    {
      "cell_type": "markdown",
      "source": [
        "**NMF**"
      ],
      "metadata": {
        "id": "8_CooRho2BHE"
      }
    },
    {
      "cell_type": "code",
      "source": [
        "algo = NMF()\n",
        "algo.fit(trainset)"
      ],
      "metadata": {
        "colab": {
          "base_uri": "https://localhost:8080/"
        },
        "id": "kvPkYExf2CRL",
        "outputId": "c596b558-68cd-4733-b40e-cb471f66046a"
      },
      "execution_count": 40,
      "outputs": [
        {
          "output_type": "execute_result",
          "data": {
            "text/plain": [
              "<surprise.prediction_algorithms.matrix_factorization.NMF at 0x7f265a4f08b0>"
            ]
          },
          "metadata": {},
          "execution_count": 40
        }
      ]
    },
    {
      "cell_type": "code",
      "source": [
        "test_pred = algo.test(testset)\n",
        "accuracy.rmse(test_pred, verbose=True)"
      ],
      "metadata": {
        "colab": {
          "base_uri": "https://localhost:8080/"
        },
        "id": "v8xRkdzP2FQb",
        "outputId": "817a5da5-a255-4934-af39-e4860090212e"
      },
      "execution_count": 41,
      "outputs": [
        {
          "output_type": "stream",
          "name": "stdout",
          "text": [
            "RMSE: 0.9335\n"
          ]
        },
        {
          "output_type": "execute_result",
          "data": {
            "text/plain": [
              "0.9334976652047904"
            ]
          },
          "metadata": {},
          "execution_count": 41
        }
      ]
    },
    {
      "cell_type": "code",
      "source": [
        "cross_validate(algo, data, measures=['RMSE', 'MAE'], cv=5, verbose=True)"
      ],
      "metadata": {
        "colab": {
          "base_uri": "https://localhost:8080/"
        },
        "id": "oebDfUfA2HsK",
        "outputId": "647af098-a532-406e-de12-62643fa14369"
      },
      "execution_count": 42,
      "outputs": [
        {
          "output_type": "stream",
          "name": "stdout",
          "text": [
            "Evaluating RMSE, MAE of algorithm NMF on 5 split(s).\n",
            "\n",
            "                  Fold 1  Fold 2  Fold 3  Fold 4  Fold 5  Mean    Std     \n",
            "RMSE (testset)    0.9289  0.9202  0.9144  0.9282  0.9145  0.9212  0.0063  \n",
            "MAE (testset)     0.7098  0.7041  0.7033  0.7106  0.6991  0.7054  0.0043  \n",
            "Fit time          2.57    2.77    3.05    2.60    2.71    2.74    0.17    \n",
            "Test time         0.15    0.20    0.21    0.11    0.38    0.21    0.09    \n"
          ]
        },
        {
          "output_type": "execute_result",
          "data": {
            "text/plain": [
              "{'test_rmse': array([0.92894425, 0.92024796, 0.91439096, 0.92817427, 0.91445591]),\n",
              " 'test_mae': array([0.70977888, 0.70413493, 0.70326294, 0.71057648, 0.69910169]),\n",
              " 'fit_time': (2.5676941871643066,\n",
              "  2.771426200866699,\n",
              "  3.048194646835327,\n",
              "  2.6013879776000977,\n",
              "  2.7068004608154297),\n",
              " 'test_time': (0.15151596069335938,\n",
              "  0.2012033462524414,\n",
              "  0.21045160293579102,\n",
              "  0.11104059219360352,\n",
              "  0.37751197814941406)}"
            ]
          },
          "metadata": {},
          "execution_count": 42
        }
      ]
    }
  ]
}