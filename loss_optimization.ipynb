{
 "cells": [
  {
   "cell_type": "markdown",
   "id": "19077db1",
   "metadata": {},
   "source": [
    "Шаг 1. Загрузка данных"
   ]
  },
  {
   "cell_type": "code",
   "execution_count": 1,
   "id": "f1dc61c8",
   "metadata": {},
   "outputs": [],
   "source": [
    "import pandas as pd\n",
    "import numpy as np\n",
    "from sklearn import datasets\n",
    "iris = datasets.load_iris()\n",
    "iris_df=pd.DataFrame(iris.data, columns= iris['feature_names'])\n",
    "iris_df['class']=iris.target\n",
    "iris_df = iris_df[iris_df['class'].isin([0,1])]"
   ]
  },
  {
   "cell_type": "code",
   "execution_count": 2,
   "id": "d1833c5f",
   "metadata": {},
   "outputs": [
    {
     "data": {
      "text/html": [
       "<div>\n",
       "<style scoped>\n",
       "    .dataframe tbody tr th:only-of-type {\n",
       "        vertical-align: middle;\n",
       "    }\n",
       "\n",
       "    .dataframe tbody tr th {\n",
       "        vertical-align: top;\n",
       "    }\n",
       "\n",
       "    .dataframe thead th {\n",
       "        text-align: right;\n",
       "    }\n",
       "</style>\n",
       "<table border=\"1\" class=\"dataframe\">\n",
       "  <thead>\n",
       "    <tr style=\"text-align: right;\">\n",
       "      <th></th>\n",
       "      <th>sepal length (cm)</th>\n",
       "      <th>sepal width (cm)</th>\n",
       "      <th>petal length (cm)</th>\n",
       "      <th>petal width (cm)</th>\n",
       "      <th>class</th>\n",
       "    </tr>\n",
       "  </thead>\n",
       "  <tbody>\n",
       "    <tr>\n",
       "      <th>0</th>\n",
       "      <td>5.1</td>\n",
       "      <td>3.5</td>\n",
       "      <td>1.4</td>\n",
       "      <td>0.2</td>\n",
       "      <td>0</td>\n",
       "    </tr>\n",
       "    <tr>\n",
       "      <th>1</th>\n",
       "      <td>4.9</td>\n",
       "      <td>3.0</td>\n",
       "      <td>1.4</td>\n",
       "      <td>0.2</td>\n",
       "      <td>0</td>\n",
       "    </tr>\n",
       "    <tr>\n",
       "      <th>2</th>\n",
       "      <td>4.7</td>\n",
       "      <td>3.2</td>\n",
       "      <td>1.3</td>\n",
       "      <td>0.2</td>\n",
       "      <td>0</td>\n",
       "    </tr>\n",
       "    <tr>\n",
       "      <th>3</th>\n",
       "      <td>4.6</td>\n",
       "      <td>3.1</td>\n",
       "      <td>1.5</td>\n",
       "      <td>0.2</td>\n",
       "      <td>0</td>\n",
       "    </tr>\n",
       "    <tr>\n",
       "      <th>4</th>\n",
       "      <td>5.0</td>\n",
       "      <td>3.6</td>\n",
       "      <td>1.4</td>\n",
       "      <td>0.2</td>\n",
       "      <td>0</td>\n",
       "    </tr>\n",
       "  </tbody>\n",
       "</table>\n",
       "</div>"
      ],
      "text/plain": [
       "   sepal length (cm)  sepal width (cm)  petal length (cm)  petal width (cm)  \\\n",
       "0                5.1               3.5                1.4               0.2   \n",
       "1                4.9               3.0                1.4               0.2   \n",
       "2                4.7               3.2                1.3               0.2   \n",
       "3                4.6               3.1                1.5               0.2   \n",
       "4                5.0               3.6                1.4               0.2   \n",
       "\n",
       "   class  \n",
       "0      0  \n",
       "1      0  \n",
       "2      0  \n",
       "3      0  \n",
       "4      0  "
      ]
     },
     "execution_count": 2,
     "metadata": {},
     "output_type": "execute_result"
    }
   ],
   "source": [
    "iris_df.head()"
   ]
  },
  {
   "cell_type": "code",
   "execution_count": 3,
   "id": "a064af5e",
   "metadata": {},
   "outputs": [
    {
     "data": {
      "text/plain": [
       "0     0\n",
       "1     0\n",
       "2     0\n",
       "3     0\n",
       "4     0\n",
       "     ..\n",
       "95    1\n",
       "96    1\n",
       "97    1\n",
       "98    1\n",
       "99    1\n",
       "Name: class, Length: 100, dtype: int32"
      ]
     },
     "execution_count": 3,
     "metadata": {},
     "output_type": "execute_result"
    }
   ],
   "source": [
    "X = iris_df[['sepal length (cm)','sepal width (cm)','petal length (cm)','petal width (cm)']]\n",
    "y = pd.Series(data=iris_df['class'])\n",
    "y"
   ]
  },
  {
   "cell_type": "markdown",
   "id": "e8453584",
   "metadata": {},
   "source": [
    "Шаг 2. Логистическая регрессия\n",
    "Функцию сигмоиды (sigmoid)\n",
    "Функцию для подсчеты ошибки (cost)\n",
    "Функцию градиента\n",
    "Далее можно написать цикл, который для каждой эпохи обновляет веса, вычисляет ошибку. Если будете делать усложненный варинт, то можно еще сделать остановку алгоритма (выход из цикла) при достижении определенного значения ошибки (обычно малого 10^-6) или определенного количество эпох. Также будет круто, если удастся написать функцию для предсказания класса на основе полученных после обучения весов."
   ]
  },
  {
   "cell_type": "code",
   "execution_count": 14,
   "id": "3259f476",
   "metadata": {},
   "outputs": [
    {
     "name": "stdout",
     "output_type": "stream",
     "text": [
      "Epoch: 0\n",
      "Log_loss 1.272672280569014\n",
      "Accuracy 0.02\n",
      "Epoch: 10\n",
      "Log_loss 3.7217211443752176\n",
      "Accuracy 0.5\n",
      "Epoch: 20\n",
      "Log_loss 6.79461376310796\n",
      "Accuracy 0.5\n",
      "Epoch: 30\n",
      "Log_loss 9.867868484562358\n",
      "Accuracy 0.5\n",
      "Epoch: 40\n",
      "Log_loss 12.941119198302824\n",
      "Accuracy 0.5\n",
      "Epoch: 50\n",
      "Log_loss 16.01029717348631\n",
      "Accuracy 0.5\n",
      "Epoch: 60\n",
      "Log_loss 30.066469573635878\n",
      "Accuracy 0.5\n",
      "Epoch: 70\n",
      "Log_loss 34.20843740090364\n",
      "Accuracy 0.5\n",
      "Epoch: 80\n",
      "Log_loss 34.538776394910684\n",
      "Accuracy 0.5\n",
      "Epoch: 90\n",
      "Log_loss 34.538776394910684\n",
      "Accuracy 0.5\n"
     ]
    }
   ],
   "source": [
    "def sigmoid(x):\n",
    "    return 1 / (1 + np.exp(-x))\n",
    "\n",
    "def log_loss(y, y_pred):\n",
    "    log_loss_1 = np.sum(np.log(y_pred[y == 1] + 1e-30))\n",
    "    log_loss_0 = np.sum(np.log(1 - y_pred[y == 0] + 1e-30))\n",
    "    log_loss = -(log_loss_0 + log_loss_1) / len(y)\n",
    "    return log_loss\n",
    "\n",
    "def gr_log_loss(X, W, y):\n",
    "    y_pred = sigmoid(X @ W)\n",
    "    gradient = X.T @ (y_pred - y)\n",
    "    return gradient\n",
    "\n",
    "np.random.seed(4)\n",
    "W = np.random.randn(X.shape[1])\n",
    "learning_rate = 0.001\n",
    "next_W = W\n",
    "\n",
    "epochs = 100\n",
    "for i in range(epochs):\n",
    "    cur_W = next_W\n",
    "\n",
    "    next_W = cur_W - learning_rate * gr_log_loss(X, W, y)\n",
    "    if np.linalg.norm(cur_W - next_W) <= 0.00001:\n",
    "        break\n",
    "\n",
    "    if i % 10 == 0:\n",
    "        print(f\"Epoch: {i}\")\n",
    "        y_pred = sigmoid(X @ next_W)\n",
    "        y_class = np.where(y_pred >= 0.5, 1, 0)\n",
    "        accuracy = (y_class == y).sum() / len(y)\n",
    "        print(f\"Log_loss {log_loss(y, y_pred)}\")\n",
    "        print(f\"Accuracy {accuracy}\")"
   ]
  },
  {
   "cell_type": "code",
   "execution_count": null,
   "id": "fadb06a5",
   "metadata": {},
   "outputs": [],
   "source": []
  }
 ],
 "metadata": {
  "kernelspec": {
   "display_name": "Python 3 (ipykernel)",
   "language": "python",
   "name": "python3"
  },
  "language_info": {
   "codemirror_mode": {
    "name": "ipython",
    "version": 3
   },
   "file_extension": ".py",
   "mimetype": "text/x-python",
   "name": "python",
   "nbconvert_exporter": "python",
   "pygments_lexer": "ipython3",
   "version": "3.9.7"
  }
 },
 "nbformat": 4,
 "nbformat_minor": 5
}
