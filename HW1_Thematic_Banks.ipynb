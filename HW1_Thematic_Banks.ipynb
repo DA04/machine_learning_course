{
 "cells": [
  {
   "cell_type": "markdown",
   "metadata": {},
   "source": [
    "<b>Классификация по тональности</b>\n",
    "\n",
    "В этом домашнем задании вам предстоит классифицировать по тональности отзывы на банки с сайта banki.ru.\n",
    "Данные содержат непосредственно тексты отзывов, некоторую дополнительную информацию, а также оценку по шкале от 1 до 5.\n",
    "Тексты хранятся в json-ах в массиве responses.\n",
    "Посмотрим на примере отзыва: возьмите для удобства ноутбук, размещенный в папке репозитория."
   ]
  },
  {
   "cell_type": "code",
   "execution_count": 4,
   "metadata": {
    "id": "h1dvK7H_qauH"
   },
   "outputs": [],
   "source": [
    "import json\n",
    "\n",
    "import bz2\n",
    "import regex\n",
    "from tqdm import tqdm\n",
    "from scipy import sparse"
   ]
  },
  {
   "cell_type": "code",
   "execution_count": 5,
   "metadata": {
    "id": "_ZsoxOinqauK",
    "outputId": "1b349b33-f266-404a-fa55-4088784d8897"
   },
   "outputs": [
    {
     "name": "stdout",
     "output_type": "stream",
     "text": [
      "Populating the interactive namespace from numpy and matplotlib\n"
     ]
    }
   ],
   "source": [
    "import pandas as pd\n",
    "import numpy as np\n",
    "import nltk\n",
    "import matplotlib.pyplot as plt\n",
    "import seaborn as sns\n",
    "%matplotlib inline\n",
    "%pylab inline"
   ]
  },
  {
   "cell_type": "code",
   "execution_count": 6,
   "metadata": {
    "id": "UNHVsbPnqauL",
    "outputId": "e8d7d7f4-576b-4846-b06a-f3b4a08adb95",
    "scrolled": true
   },
   "outputs": [
    {
     "name": "stderr",
     "output_type": "stream",
     "text": [
      "201030it [01:46, 1889.23it/s]\n"
     ]
    }
   ],
   "source": [
    "responses = []\n",
    "with bz2.BZ2File('banki_responses.json.bz2', 'r') as thefile:\n",
    "    for row in tqdm(thefile):\n",
    "        resp = json.loads(row)\n",
    "        if not resp['rating_not_checked'] and (len(resp['text'].split()) > 0):\n",
    "            responses.append(resp)"
   ]
  },
  {
   "cell_type": "markdown",
   "metadata": {
    "id": "F0ixYxfSqauM"
   },
   "source": [
    "\n",
    "Посмотрим на пример отзыва:"
   ]
  },
  {
   "cell_type": "code",
   "execution_count": 7,
   "metadata": {
    "id": "Dd7m6GpMqauP",
    "outputId": "975085c3-9f8c-4a64-ac12-747ffab282ce"
   },
   "outputs": [
    {
     "data": {
      "text/plain": [
       "{'city': 'г. Одинцово (Московская обл.)',\n",
       " 'rating_not_checked': False,\n",
       " 'title': 'Благодарственное письмо',\n",
       " 'num_comments': 1,\n",
       " 'bank_license': 'лицензия № 1481',\n",
       " 'author': 'Wanesoft',\n",
       " 'bank_name': 'Сбербанк России',\n",
       " 'datetime': '2015-06-05 19:01:18',\n",
       " 'text': 'Выражаю благодарность персоналу дополнительного офиса в городе Одинцово по улице Молодежная, а так же начальнику безопасности Михаилу Робертовичу! Получая наличные в банкомате, по случайному стечению обстоятельств, денежные средства были мною забыты непосредственно в лотке выдачи. На следующий день я был оперативно проинформирован, деньги в полном объеме возвращены (30 000 рублей).',\n",
       " 'rating_grade': None}"
      ]
     },
     "execution_count": 7,
     "metadata": {},
     "output_type": "execute_result"
    }
   ],
   "source": [
    "responses[28]"
   ]
  },
  {
   "cell_type": "markdown",
   "metadata": {},
   "source": [
    "## Часть 1. Анализ текстов"
   ]
  },
  {
   "cell_type": "markdown",
   "metadata": {},
   "source": [
    "### 1. Посчитайте количество отзывов в разных городах и на разные банки"
   ]
  },
  {
   "cell_type": "code",
   "execution_count": 8,
   "metadata": {},
   "outputs": [
    {
     "data": {
      "text/html": [
       "<div>\n",
       "<style scoped>\n",
       "    .dataframe tbody tr th:only-of-type {\n",
       "        vertical-align: middle;\n",
       "    }\n",
       "\n",
       "    .dataframe tbody tr th {\n",
       "        vertical-align: top;\n",
       "    }\n",
       "\n",
       "    .dataframe thead th {\n",
       "        text-align: right;\n",
       "    }\n",
       "</style>\n",
       "<table border=\"1\" class=\"dataframe\">\n",
       "  <thead>\n",
       "    <tr style=\"text-align: right;\">\n",
       "      <th></th>\n",
       "      <th>city</th>\n",
       "      <th>rating_not_checked</th>\n",
       "      <th>title</th>\n",
       "      <th>num_comments</th>\n",
       "      <th>bank_license</th>\n",
       "      <th>author</th>\n",
       "      <th>bank_name</th>\n",
       "      <th>datetime</th>\n",
       "      <th>text</th>\n",
       "      <th>rating_grade</th>\n",
       "    </tr>\n",
       "  </thead>\n",
       "  <tbody>\n",
       "    <tr>\n",
       "      <th>0</th>\n",
       "      <td>г. Москва</td>\n",
       "      <td>False</td>\n",
       "      <td>Жалоба</td>\n",
       "      <td>0</td>\n",
       "      <td>лицензия № 2562</td>\n",
       "      <td>uhnov1</td>\n",
       "      <td>Бинбанк</td>\n",
       "      <td>2015-06-08 12:50:54</td>\n",
       "      <td>Добрый день! Я не являюсь клиентом банка и пор...</td>\n",
       "      <td>NaN</td>\n",
       "    </tr>\n",
       "    <tr>\n",
       "      <th>1</th>\n",
       "      <td>г. Новосибирск</td>\n",
       "      <td>False</td>\n",
       "      <td>Не могу пользоваться услугой Сбербанк он-лайн</td>\n",
       "      <td>0</td>\n",
       "      <td>лицензия № 1481</td>\n",
       "      <td>Foryou</td>\n",
       "      <td>Сбербанк России</td>\n",
       "      <td>2015-06-08 11:09:57</td>\n",
       "      <td>Доброго дня! Являюсь держателем зарплатной кар...</td>\n",
       "      <td>NaN</td>\n",
       "    </tr>\n",
       "    <tr>\n",
       "      <th>2</th>\n",
       "      <td>г. Москва</td>\n",
       "      <td>False</td>\n",
       "      <td>Двойное списание за один товар.</td>\n",
       "      <td>1</td>\n",
       "      <td>лицензия № 2562</td>\n",
       "      <td>Vladimir84</td>\n",
       "      <td>Бинбанк</td>\n",
       "      <td>2015-06-05 20:14:28</td>\n",
       "      <td>Здравствуйте!  Дублирую свое заявление от 03.0...</td>\n",
       "      <td>NaN</td>\n",
       "    </tr>\n",
       "    <tr>\n",
       "      <th>3</th>\n",
       "      <td>г. Ставрополь</td>\n",
       "      <td>False</td>\n",
       "      <td>Меняют проценты комиссии  не предупредив и не ...</td>\n",
       "      <td>2</td>\n",
       "      <td>лицензия № 1481</td>\n",
       "      <td>643609</td>\n",
       "      <td>Сбербанк России</td>\n",
       "      <td>2015-06-05 13:51:01</td>\n",
       "      <td>Добрый день!! Я открыл расчетный счет в СберБа...</td>\n",
       "      <td>NaN</td>\n",
       "    </tr>\n",
       "    <tr>\n",
       "      <th>4</th>\n",
       "      <td>г. Челябинск</td>\n",
       "      <td>False</td>\n",
       "      <td>Верните денежные средства за страховку</td>\n",
       "      <td>1</td>\n",
       "      <td>лицензия № 2766</td>\n",
       "      <td>anfisa-2003</td>\n",
       "      <td>ОТП Банк</td>\n",
       "      <td>2015-06-05 10:58:12</td>\n",
       "      <td>04.03.2015 г. взяла кредит в вашем банке, заяв...</td>\n",
       "      <td>NaN</td>\n",
       "    </tr>\n",
       "  </tbody>\n",
       "</table>\n",
       "</div>"
      ],
      "text/plain": [
       "             city  rating_not_checked  \\\n",
       "0       г. Москва               False   \n",
       "1  г. Новосибирск               False   \n",
       "2       г. Москва               False   \n",
       "3   г. Ставрополь               False   \n",
       "4    г. Челябинск               False   \n",
       "\n",
       "                                               title  num_comments  \\\n",
       "0                                             Жалоба             0   \n",
       "1      Не могу пользоваться услугой Сбербанк он-лайн             0   \n",
       "2                    Двойное списание за один товар.             1   \n",
       "3  Меняют проценты комиссии  не предупредив и не ...             2   \n",
       "4             Верните денежные средства за страховку             1   \n",
       "\n",
       "      bank_license       author        bank_name             datetime  \\\n",
       "0  лицензия № 2562       uhnov1          Бинбанк  2015-06-08 12:50:54   \n",
       "1  лицензия № 1481       Foryou  Сбербанк России  2015-06-08 11:09:57   \n",
       "2  лицензия № 2562   Vladimir84          Бинбанк  2015-06-05 20:14:28   \n",
       "3  лицензия № 1481       643609  Сбербанк России  2015-06-05 13:51:01   \n",
       "4  лицензия № 2766  anfisa-2003         ОТП Банк  2015-06-05 10:58:12   \n",
       "\n",
       "                                                text  rating_grade  \n",
       "0  Добрый день! Я не являюсь клиентом банка и пор...           NaN  \n",
       "1  Доброго дня! Являюсь держателем зарплатной кар...           NaN  \n",
       "2  Здравствуйте!  Дублирую свое заявление от 03.0...           NaN  \n",
       "3  Добрый день!! Я открыл расчетный счет в СберБа...           NaN  \n",
       "4  04.03.2015 г. взяла кредит в вашем банке, заяв...           NaN  "
      ]
     },
     "execution_count": 8,
     "metadata": {},
     "output_type": "execute_result"
    }
   ],
   "source": [
    "df = pd.DataFrame.from_records(responses)\n",
    "df.head()"
   ]
  },
  {
   "cell_type": "code",
   "execution_count": 11,
   "metadata": {},
   "outputs": [
    {
     "name": "stdout",
     "output_type": "stream",
     "text": [
      "<class 'pandas.core.frame.DataFrame'>\n",
      "RangeIndex: 153499 entries, 0 to 153498\n",
      "Data columns (total 10 columns):\n",
      " #   Column              Non-Null Count   Dtype  \n",
      "---  ------              --------------   -----  \n",
      " 0   city                138325 non-null  object \n",
      " 1   rating_not_checked  153499 non-null  bool   \n",
      " 2   title               153499 non-null  object \n",
      " 3   num_comments        153499 non-null  int64  \n",
      " 4   bank_license        153498 non-null  object \n",
      " 5   author              153479 non-null  object \n",
      " 6   bank_name           153499 non-null  object \n",
      " 7   datetime            153499 non-null  object \n",
      " 8   text                153499 non-null  object \n",
      " 9   rating_grade        88658 non-null   float64\n",
      "dtypes: bool(1), float64(1), int64(1), object(7)\n",
      "memory usage: 10.7+ MB\n"
     ]
    }
   ],
   "source": [
    "df.info()"
   ]
  },
  {
   "cell_type": "code",
   "execution_count": 12,
   "metadata": {},
   "outputs": [
    {
     "data": {
      "text/html": [
       "<div>\n",
       "<style scoped>\n",
       "    .dataframe tbody tr th:only-of-type {\n",
       "        vertical-align: middle;\n",
       "    }\n",
       "\n",
       "    .dataframe tbody tr th {\n",
       "        vertical-align: top;\n",
       "    }\n",
       "\n",
       "    .dataframe thead th {\n",
       "        text-align: right;\n",
       "    }\n",
       "</style>\n",
       "<table border=\"1\" class=\"dataframe\">\n",
       "  <thead>\n",
       "    <tr style=\"text-align: right;\">\n",
       "      <th></th>\n",
       "      <th>city</th>\n",
       "      <th>bank_name</th>\n",
       "      <th>responses_count</th>\n",
       "    </tr>\n",
       "  </thead>\n",
       "  <tbody>\n",
       "    <tr>\n",
       "      <th>0</th>\n",
       "      <td>г. Москва</td>\n",
       "      <td>Сбербанк России</td>\n",
       "      <td>8146</td>\n",
       "    </tr>\n",
       "    <tr>\n",
       "      <th>1</th>\n",
       "      <td>г. Москва</td>\n",
       "      <td>Альфа-Банк</td>\n",
       "      <td>3871</td>\n",
       "    </tr>\n",
       "    <tr>\n",
       "      <th>2</th>\n",
       "      <td>г. Москва</td>\n",
       "      <td>Русский Стандарт</td>\n",
       "      <td>2801</td>\n",
       "    </tr>\n",
       "    <tr>\n",
       "      <th>3</th>\n",
       "      <td>г. Москва</td>\n",
       "      <td>ВТБ 24</td>\n",
       "      <td>2714</td>\n",
       "    </tr>\n",
       "    <tr>\n",
       "      <th>4</th>\n",
       "      <td>г. Санкт-Петербург</td>\n",
       "      <td>Сбербанк России</td>\n",
       "      <td>2434</td>\n",
       "    </tr>\n",
       "    <tr>\n",
       "      <th>...</th>\n",
       "      <td>...</td>\n",
       "      <td>...</td>\n",
       "      <td>...</td>\n",
       "    </tr>\n",
       "    <tr>\n",
       "      <th>18764</th>\n",
       "      <td>г. Москва,  Отделение \"Жулебинское\"</td>\n",
       "      <td>Московский Кредитный Банк</td>\n",
       "      <td>1</td>\n",
       "    </tr>\n",
       "    <tr>\n",
       "      <th>18765</th>\n",
       "      <td>г. Москва, \"Китай-город\"</td>\n",
       "      <td>Фора-Банк</td>\n",
       "      <td>1</td>\n",
       "    </tr>\n",
       "    <tr>\n",
       "      <th>18766</th>\n",
       "      <td>г. Москва, Ветошный пер</td>\n",
       "      <td>Восточный Экспресс Банк</td>\n",
       "      <td>1</td>\n",
       "    </tr>\n",
       "    <tr>\n",
       "      <th>18767</th>\n",
       "      <td>г. Москва, Видное</td>\n",
       "      <td>Сбербанк России</td>\n",
       "      <td>1</td>\n",
       "    </tr>\n",
       "    <tr>\n",
       "      <th>18768</th>\n",
       "      <td>г. … или другой населенный пункт</td>\n",
       "      <td>Лето Банк</td>\n",
       "      <td>1</td>\n",
       "    </tr>\n",
       "  </tbody>\n",
       "</table>\n",
       "<p>18769 rows × 3 columns</p>\n",
       "</div>"
      ],
      "text/plain": [
       "                                      city                  bank_name  \\\n",
       "0                                г. Москва            Сбербанк России   \n",
       "1                                г. Москва                 Альфа-Банк   \n",
       "2                                г. Москва           Русский Стандарт   \n",
       "3                                г. Москва                     ВТБ 24   \n",
       "4                       г. Санкт-Петербург            Сбербанк России   \n",
       "...                                    ...                        ...   \n",
       "18764  г. Москва,  Отделение \"Жулебинское\"  Московский Кредитный Банк   \n",
       "18765             г. Москва, \"Китай-город\"                  Фора-Банк   \n",
       "18766              г. Москва, Ветошный пер    Восточный Экспресс Банк   \n",
       "18767                    г. Москва, Видное            Сбербанк России   \n",
       "18768     г. … или другой населенный пункт                  Лето Банк   \n",
       "\n",
       "       responses_count  \n",
       "0                 8146  \n",
       "1                 3871  \n",
       "2                 2801  \n",
       "3                 2714  \n",
       "4                 2434  \n",
       "...                ...  \n",
       "18764                1  \n",
       "18765                1  \n",
       "18766                1  \n",
       "18767                1  \n",
       "18768                1  \n",
       "\n",
       "[18769 rows x 3 columns]"
      ]
     },
     "execution_count": 12,
     "metadata": {},
     "output_type": "execute_result"
    }
   ],
   "source": [
    "df.groupby(['city', 'bank_name']).size().sort_values(ascending=False).reset_index(name='responses_count') "
   ]
  },
  {
   "cell_type": "code",
   "execution_count": 221,
   "metadata": {},
   "outputs": [
    {
     "data": {
      "text/plain": [
       "<AxesSubplot:>"
      ]
     },
     "execution_count": 221,
     "metadata": {},
     "output_type": "execute_result"
    },
    {
     "data": {
      "image/png": "[encoded data removed]",
      "text/plain": [
       "<Figure size 432x288 with 1 Axes>"
      ]
     },
     "metadata": {
      "needs_background": "light"
     },
     "output_type": "display_data"
    }
   ],
   "source": [
    "top_10_cities = (df['city'].value_counts()).iloc[:10]\n",
    "top_10_cities.sort_values().plot(kind='barh')"
   ]
  },
  {
   "cell_type": "code",
   "execution_count": 220,
   "metadata": {},
   "outputs": [
    {
     "data": {
      "text/plain": [
       "<AxesSubplot:>"
      ]
     },
     "execution_count": 220,
     "metadata": {},
     "output_type": "execute_result"
    },
    {
     "data": {
      "image/png": "[encoded data removed]",
      "text/plain": [
       "<Figure size 432x288 with 1 Axes>"
      ]
     },
     "metadata": {
      "needs_background": "light"
     },
     "output_type": "display_data"
    }
   ],
   "source": [
    "top_10_banks = (df['bank_name'].value_counts()).iloc[:10]\n",
    "top_10_banks.sort_values().plot(kind='barh')"
   ]
  },
  {
   "cell_type": "markdown",
   "metadata": {},
   "source": [
    "### 2. Постройте гистограмы длин слов в символах и в словах\n",
    "построить гистограмму длин отзывов в словах и символах. Например отзыв “банк хороший” - это 2 слова и 12 символов (с пробелом)."
   ]
  },
  {
   "cell_type": "code",
   "execution_count": 57,
   "metadata": {},
   "outputs": [
    {
     "data": {
      "text/plain": [
       "'!\"#$%&\\'()*+,-./:;<=>?@[\\\\]^_`{|}~'"
      ]
     },
     "execution_count": 57,
     "metadata": {},
     "output_type": "execute_result"
    }
   ],
   "source": [
    "from string import punctuation\n",
    "punctuation"
   ]
  },
  {
   "cell_type": "code",
   "execution_count": 58,
   "metadata": {},
   "outputs": [],
   "source": [
    "from nltk import tokenize\n",
    "from nltk.tokenize import word_tokenize"
   ]
  },
  {
   "cell_type": "code",
   "execution_count": 17,
   "metadata": {},
   "outputs": [],
   "source": [
    "df['characters_count'] = df.text.str.len()\n",
    "df['words_count'] = df.apply(lambda x: len([token for token in word_tokenize(x['text']) if token not in punctuation]), axis=1)"
   ]
  },
  {
   "cell_type": "code",
   "execution_count": 18,
   "metadata": {},
   "outputs": [
    {
     "data": {
      "text/plain": [
       "array([[<AxesSubplot:title={'center':'characters_count'}>]], dtype=object)"
      ]
     },
     "execution_count": 18,
     "metadata": {},
     "output_type": "execute_result"
    },
    {
     "data": {
      "image/png": "[encoded data removed]",
      "text/plain": [
       "<Figure size 1008x216 with 1 Axes>"
      ]
     },
     "metadata": {
      "needs_background": "light"
     },
     "output_type": "display_data"
    }
   ],
   "source": [
    "df.hist(column='characters_count', bins = 50, figsize=(14,3))"
   ]
  },
  {
   "cell_type": "code",
   "execution_count": 19,
   "metadata": {},
   "outputs": [
    {
     "data": {
      "text/plain": [
       "array([[<AxesSubplot:title={'center':'words_count'}>]], dtype=object)"
      ]
     },
     "execution_count": 19,
     "metadata": {},
     "output_type": "execute_result"
    },
    {
     "data": {
      "image/png": "[encoded data removed]",
      "text/plain": [
       "<Figure size 1008x216 with 1 Axes>"
      ]
     },
     "metadata": {
      "needs_background": "light"
     },
     "output_type": "display_data"
    }
   ],
   "source": [
    "df.hist(column='words_count', bins = 50, figsize=(14,3))"
   ]
  },
  {
   "cell_type": "markdown",
   "metadata": {},
   "source": [
    "### 3. Найдите 10 самых частых:\n",
    "1) слов\n",
    "2) слов без стоп-слов\n",
    "3) лемм\n",
    "4) существительных\n",
    "\n",
    "можно выполнить на выборке размера 10000"
   ]
  },
  {
   "cell_type": "code",
   "execution_count": 55,
   "metadata": {},
   "outputs": [],
   "source": [
    "from collections import Counter"
   ]
  },
  {
   "cell_type": "code",
   "execution_count": 59,
   "metadata": {},
   "outputs": [
    {
     "data": {
      "text/plain": [
       "'!\"#$%&\\'()*+,-./:;<=>?@[\\\\]^_`{|}~`\\''"
      ]
     },
     "execution_count": 59,
     "metadata": {},
     "output_type": "execute_result"
    }
   ],
   "source": [
    "punctuation_upd = punctuation+\"`\"+\"'\"\n",
    "punctuation_upd"
   ]
  },
  {
   "cell_type": "code",
   "execution_count": 22,
   "metadata": {},
   "outputs": [],
   "source": [
    "df['text_lower'] = df.text.str.lower()"
   ]
  },
  {
   "cell_type": "code",
   "execution_count": 23,
   "metadata": {},
   "outputs": [
    {
     "data": {
      "text/html": [
       "<div>\n",
       "<style scoped>\n",
       "    .dataframe tbody tr th:only-of-type {\n",
       "        vertical-align: middle;\n",
       "    }\n",
       "\n",
       "    .dataframe tbody tr th {\n",
       "        vertical-align: top;\n",
       "    }\n",
       "\n",
       "    .dataframe thead th {\n",
       "        text-align: right;\n",
       "    }\n",
       "</style>\n",
       "<table border=\"1\" class=\"dataframe\">\n",
       "  <thead>\n",
       "    <tr style=\"text-align: right;\">\n",
       "      <th></th>\n",
       "      <th>city</th>\n",
       "      <th>rating_not_checked</th>\n",
       "      <th>title</th>\n",
       "      <th>num_comments</th>\n",
       "      <th>bank_license</th>\n",
       "      <th>author</th>\n",
       "      <th>bank_name</th>\n",
       "      <th>datetime</th>\n",
       "      <th>text</th>\n",
       "      <th>rating_grade</th>\n",
       "      <th>characters_count</th>\n",
       "      <th>words_count</th>\n",
       "      <th>text_lower</th>\n",
       "    </tr>\n",
       "  </thead>\n",
       "  <tbody>\n",
       "    <tr>\n",
       "      <th>0</th>\n",
       "      <td>г. Москва</td>\n",
       "      <td>False</td>\n",
       "      <td>Жалоба</td>\n",
       "      <td>0</td>\n",
       "      <td>лицензия № 2562</td>\n",
       "      <td>uhnov1</td>\n",
       "      <td>Бинбанк</td>\n",
       "      <td>2015-06-08 12:50:54</td>\n",
       "      <td>Добрый день! Я не являюсь клиентом банка и пор...</td>\n",
       "      <td>NaN</td>\n",
       "      <td>1523</td>\n",
       "      <td>222</td>\n",
       "      <td>добрый день! я не являюсь клиентом банка и пор...</td>\n",
       "    </tr>\n",
       "    <tr>\n",
       "      <th>1</th>\n",
       "      <td>г. Новосибирск</td>\n",
       "      <td>False</td>\n",
       "      <td>Не могу пользоваться услугой Сбербанк он-лайн</td>\n",
       "      <td>0</td>\n",
       "      <td>лицензия № 1481</td>\n",
       "      <td>Foryou</td>\n",
       "      <td>Сбербанк России</td>\n",
       "      <td>2015-06-08 11:09:57</td>\n",
       "      <td>Доброго дня! Являюсь держателем зарплатной кар...</td>\n",
       "      <td>NaN</td>\n",
       "      <td>1026</td>\n",
       "      <td>136</td>\n",
       "      <td>доброго дня! являюсь держателем зарплатной кар...</td>\n",
       "    </tr>\n",
       "    <tr>\n",
       "      <th>2</th>\n",
       "      <td>г. Москва</td>\n",
       "      <td>False</td>\n",
       "      <td>Двойное списание за один товар.</td>\n",
       "      <td>1</td>\n",
       "      <td>лицензия № 2562</td>\n",
       "      <td>Vladimir84</td>\n",
       "      <td>Бинбанк</td>\n",
       "      <td>2015-06-05 20:14:28</td>\n",
       "      <td>Здравствуйте!  Дублирую свое заявление от 03.0...</td>\n",
       "      <td>NaN</td>\n",
       "      <td>588</td>\n",
       "      <td>93</td>\n",
       "      <td>здравствуйте!  дублирую свое заявление от 03.0...</td>\n",
       "    </tr>\n",
       "    <tr>\n",
       "      <th>3</th>\n",
       "      <td>г. Ставрополь</td>\n",
       "      <td>False</td>\n",
       "      <td>Меняют проценты комиссии  не предупредив и не ...</td>\n",
       "      <td>2</td>\n",
       "      <td>лицензия № 1481</td>\n",
       "      <td>643609</td>\n",
       "      <td>Сбербанк России</td>\n",
       "      <td>2015-06-05 13:51:01</td>\n",
       "      <td>Добрый день!! Я открыл расчетный счет в СберБа...</td>\n",
       "      <td>NaN</td>\n",
       "      <td>740</td>\n",
       "      <td>124</td>\n",
       "      <td>добрый день!! я открыл расчетный счет в сберба...</td>\n",
       "    </tr>\n",
       "    <tr>\n",
       "      <th>4</th>\n",
       "      <td>г. Челябинск</td>\n",
       "      <td>False</td>\n",
       "      <td>Верните денежные средства за страховку</td>\n",
       "      <td>1</td>\n",
       "      <td>лицензия № 2766</td>\n",
       "      <td>anfisa-2003</td>\n",
       "      <td>ОТП Банк</td>\n",
       "      <td>2015-06-05 10:58:12</td>\n",
       "      <td>04.03.2015 г. взяла кредит в вашем банке, заяв...</td>\n",
       "      <td>NaN</td>\n",
       "      <td>1896</td>\n",
       "      <td>308</td>\n",
       "      <td>04.03.2015 г. взяла кредит в вашем банке, заяв...</td>\n",
       "    </tr>\n",
       "  </tbody>\n",
       "</table>\n",
       "</div>"
      ],
      "text/plain": [
       "             city  rating_not_checked  \\\n",
       "0       г. Москва               False   \n",
       "1  г. Новосибирск               False   \n",
       "2       г. Москва               False   \n",
       "3   г. Ставрополь               False   \n",
       "4    г. Челябинск               False   \n",
       "\n",
       "                                               title  num_comments  \\\n",
       "0                                             Жалоба             0   \n",
       "1      Не могу пользоваться услугой Сбербанк он-лайн             0   \n",
       "2                    Двойное списание за один товар.             1   \n",
       "3  Меняют проценты комиссии  не предупредив и не ...             2   \n",
       "4             Верните денежные средства за страховку             1   \n",
       "\n",
       "      bank_license       author        bank_name             datetime  \\\n",
       "0  лицензия № 2562       uhnov1          Бинбанк  2015-06-08 12:50:54   \n",
       "1  лицензия № 1481       Foryou  Сбербанк России  2015-06-08 11:09:57   \n",
       "2  лицензия № 2562   Vladimir84          Бинбанк  2015-06-05 20:14:28   \n",
       "3  лицензия № 1481       643609  Сбербанк России  2015-06-05 13:51:01   \n",
       "4  лицензия № 2766  anfisa-2003         ОТП Банк  2015-06-05 10:58:12   \n",
       "\n",
       "                                                text  rating_grade  \\\n",
       "0  Добрый день! Я не являюсь клиентом банка и пор...           NaN   \n",
       "1  Доброго дня! Являюсь держателем зарплатной кар...           NaN   \n",
       "2  Здравствуйте!  Дублирую свое заявление от 03.0...           NaN   \n",
       "3  Добрый день!! Я открыл расчетный счет в СберБа...           NaN   \n",
       "4  04.03.2015 г. взяла кредит в вашем банке, заяв...           NaN   \n",
       "\n",
       "   characters_count  words_count  \\\n",
       "0              1523          222   \n",
       "1              1026          136   \n",
       "2               588           93   \n",
       "3               740          124   \n",
       "4              1896          308   \n",
       "\n",
       "                                          text_lower  \n",
       "0  добрый день! я не являюсь клиентом банка и пор...  \n",
       "1  доброго дня! являюсь держателем зарплатной кар...  \n",
       "2  здравствуйте!  дублирую свое заявление от 03.0...  \n",
       "3  добрый день!! я открыл расчетный счет в сберба...  \n",
       "4  04.03.2015 г. взяла кредит в вашем банке, заяв...  "
      ]
     },
     "execution_count": 23,
     "metadata": {},
     "output_type": "execute_result"
    }
   ],
   "source": [
    "df.head()"
   ]
  },
  {
   "cell_type": "markdown",
   "metadata": {},
   "source": [
    "#### 10 самых частых слов"
   ]
  },
  {
   "cell_type": "code",
   "execution_count": 24,
   "metadata": {},
   "outputs": [],
   "source": [
    "corpus = [token for response in df.text_lower for token in word_tokenize(response) if token not in punctuation_upd]"
   ]
  },
  {
   "cell_type": "code",
   "execution_count": 27,
   "metadata": {},
   "outputs": [],
   "source": [
    "freq_dict = Counter(corpus)"
   ]
  },
  {
   "cell_type": "code",
   "execution_count": 28,
   "metadata": {},
   "outputs": [
    {
     "data": {
      "text/plain": [
       "[('в', 1322516),\n",
       " ('и', 1054485),\n",
       " ('не', 851742),\n",
       " ('на', 704396),\n",
       " ('что', 621783),\n",
       " ('я', 573896),\n",
       " ('с', 454545),\n",
       " ('по', 365188),\n",
       " ('мне', 320695),\n",
       " ('банка', 263958)]"
      ]
     },
     "execution_count": 28,
     "metadata": {},
     "output_type": "execute_result"
    }
   ],
   "source": [
    "freq_dict.most_common(10)"
   ]
  },
  {
   "cell_type": "markdown",
   "metadata": {},
   "source": [
    "#### 10 самых частых слов без стоп-слов"
   ]
  },
  {
   "cell_type": "code",
   "execution_count": 29,
   "metadata": {},
   "outputs": [
    {
     "name": "stderr",
     "output_type": "stream",
     "text": [
      "[nltk_data] Error loading stopwords: <urlopen error [WinError 10060]\n",
      "[nltk_data]     Попытка установить соединение была безуспешной, т.к.\n",
      "[nltk_data]     от другого компьютера за требуемое время не получен\n",
      "[nltk_data]     нужный отклик, или было разорвано уже установленное\n",
      "[nltk_data]     соединение из-за неверного отклика уже подключенного\n",
      "[nltk_data]     компьютера>\n"
     ]
    },
    {
     "data": {
      "text/plain": [
       "False"
      ]
     },
     "execution_count": 29,
     "metadata": {},
     "output_type": "execute_result"
    }
   ],
   "source": [
    "import nltk\n",
    "nltk.download('stopwords')"
   ]
  },
  {
   "cell_type": "code",
   "execution_count": 30,
   "metadata": {},
   "outputs": [
    {
     "name": "stdout",
     "output_type": "stream",
     "text": [
      "['и', 'в', 'во', 'не', 'что', 'он', 'на', 'я', 'с', 'со', 'как', 'а', 'то', 'все', 'она', 'так', 'его', 'но', 'да', 'ты', 'к', 'у', 'же', 'вы', 'за', 'бы', 'по', 'только', 'ее', 'мне', 'было', 'вот', 'от', 'меня', 'еще', 'нет', 'о', 'из', 'ему', 'теперь', 'когда', 'даже', 'ну', 'вдруг', 'ли', 'если', 'уже', 'или', 'ни', 'быть', 'был', 'него', 'до', 'вас', 'нибудь', 'опять', 'уж', 'вам', 'ведь', 'там', 'потом', 'себя', 'ничего', 'ей', 'может', 'они', 'тут', 'где', 'есть', 'надо', 'ней', 'для', 'мы', 'тебя', 'их', 'чем', 'была', 'сам', 'чтоб', 'без', 'будто', 'чего', 'раз', 'тоже', 'себе', 'под', 'будет', 'ж', 'тогда', 'кто', 'этот', 'того', 'потому', 'этого', 'какой', 'совсем', 'ним', 'здесь', 'этом', 'один', 'почти', 'мой', 'тем', 'чтобы', 'нее', 'сейчас', 'были', 'куда', 'зачем', 'всех', 'никогда', 'можно', 'при', 'наконец', 'два', 'об', 'другой', 'хоть', 'после', 'над', 'больше', 'тот', 'через', 'эти', 'нас', 'про', 'всего', 'них', 'какая', 'много', 'разве', 'три', 'эту', 'моя', 'впрочем', 'хорошо', 'свою', 'этой', 'перед', 'иногда', 'лучше', 'чуть', 'том', 'нельзя', 'такой', 'им', 'более', 'всегда', 'конечно', 'всю', 'между']\n"
     ]
    }
   ],
   "source": [
    "from nltk.corpus import stopwords\n",
    "stopwords_ru = stopwords.words('russian')\n",
    "print(stopwords_ru)"
   ]
  },
  {
   "cell_type": "code",
   "execution_count": 73,
   "metadata": {},
   "outputs": [],
   "source": [
    "corpus_wo_stopwords = [token for response in df.text_lower for token in word_tokenize(response) if not (token in punctuation_upd or token in stopwords_ru)]"
   ]
  },
  {
   "cell_type": "code",
   "execution_count": 32,
   "metadata": {},
   "outputs": [],
   "source": [
    "freq_dict_wo_stopwords = Counter(corpus_wo_stopwords)"
   ]
  },
  {
   "cell_type": "code",
   "execution_count": 33,
   "metadata": {},
   "outputs": [
    {
     "data": {
      "text/plain": [
       "[('банка', 263958),\n",
       " ('``', 220777),\n",
       " (\"''\", 215526),\n",
       " ('банк', 196303),\n",
       " ('это', 183054),\n",
       " ('деньги', 130062),\n",
       " ('...', 113647),\n",
       " ('карту', 104947),\n",
       " ('карты', 100877),\n",
       " ('кредит', 80282)]"
      ]
     },
     "execution_count": 33,
     "metadata": {},
     "output_type": "execute_result"
    }
   ],
   "source": [
    "freq_dict_wo_stopwords.most_common(10)"
   ]
  },
  {
   "cell_type": "markdown",
   "metadata": {},
   "source": [
    "#### 10 самых частых лемм"
   ]
  },
  {
   "cell_type": "code",
   "execution_count": 35,
   "metadata": {},
   "outputs": [],
   "source": [
    "from pymystem3 import Mystem\n",
    "mystem_analyzer = Mystem()"
   ]
  },
  {
   "cell_type": "code",
   "execution_count": 36,
   "metadata": {},
   "outputs": [],
   "source": [
    "df_1k = df[:100]"
   ]
  },
  {
   "cell_type": "code",
   "execution_count": 37,
   "metadata": {},
   "outputs": [],
   "source": [
    "corpus_lemma = [token for response in df_1k.text for token in mystem_analyzer.lemmatize(response) if not (token in punctuation_upd or token in stopwords_ru)]"
   ]
  },
  {
   "cell_type": "code",
   "execution_count": 38,
   "metadata": {},
   "outputs": [],
   "source": [
    "freq_dict_lemma = Counter(corpus_lemma)"
   ]
  },
  {
   "cell_type": "code",
   "execution_count": 40,
   "metadata": {},
   "outputs": [
    {
     "data": {
      "text/plain": [
       "[(' ', 13531),\n",
       " (', ', 1195),\n",
       " ('. ', 718),\n",
       " ('банк', 308),\n",
       " ('карта', 162),\n",
       " ('это', 126),\n",
       " ('кредит', 110),\n",
       " (' (', 101),\n",
       " ('\\n', 97),\n",
       " ('! ', 85),\n",
       " ('счет', 82),\n",
       " (' - ', 79),\n",
       " ('весь', 75),\n",
       " ('сумма', 75),\n",
       " ('клиент', 73),\n",
       " ('день', 71),\n",
       " ('\\xa0', 68),\n",
       " ('который', 66),\n",
       " ('деньги', 66),\n",
       " ('договор', 63)]"
      ]
     },
     "execution_count": 40,
     "metadata": {},
     "output_type": "execute_result"
    }
   ],
   "source": [
    "freq_dict_lemma.most_common(20)"
   ]
  },
  {
   "cell_type": "markdown",
   "metadata": {},
   "source": [
    "#### 10 самых частых существительных"
   ]
  },
  {
   "cell_type": "code",
   "execution_count": 41,
   "metadata": {},
   "outputs": [],
   "source": [
    "from pymorphy2 import MorphAnalyzer\n",
    "pymorphy2_analyzer = MorphAnalyzer()"
   ]
  },
  {
   "cell_type": "code",
   "execution_count": 60,
   "metadata": {},
   "outputs": [
    {
     "data": {
      "text/plain": [
       "Counter({'добрый': 18544,\n",
       "         'день': 75996,\n",
       "         'являюсь': 19694,\n",
       "         'клиентом': 25939,\n",
       "         'банка': 263958,\n",
       "         'поручителем': 982,\n",
       "         'кредитному': 3064,\n",
       "         'договору': 7695,\n",
       "         'также': 30477,\n",
       "         'каким-либо': 281,\n",
       "         'другим': 3962,\n",
       "         'лицом': 1533,\n",
       "         'письменно': 1217,\n",
       "         'оформившим': 13,\n",
       "         'отношения': 6807,\n",
       "         'банком': 37787,\n",
       "         'поводу': 10149,\n",
       "         'урегулирования': 622,\n",
       "         'чьей-либо': 10,\n",
       "         'задолженности': 14943,\n",
       "         'начиная': 1901,\n",
       "         'марта': 10295,\n",
       "         '2015': 3376,\n",
       "         'года': 55398,\n",
       "         'начали': 4828,\n",
       "         'приходить': 3805,\n",
       "         'бесконечные': 320,\n",
       "         'письма': 5369,\n",
       "         'ооо': 5043,\n",
       "         '``': 220777,\n",
       "         'примо': 2,\n",
       "         'коллект': 6,\n",
       "         \"''\": 215526,\n",
       "         'адрес': 11661,\n",
       "         'город': 2981,\n",
       "         'москва': 5997,\n",
       "         'уваровский': 1,\n",
       "         'переулок': 250,\n",
       "         'дом': 2481,\n",
       "         '10': 30038,\n",
       "         'квартира': 1050,\n",
       "         '111': 102,\n",
       "         'угрозами': 1592,\n",
       "         'возбуждении': 337,\n",
       "         'уголовного': 591,\n",
       "         'дела': 5187,\n",
       "         'отношении': 2647,\n",
       "         'гражданина': 799,\n",
       "         'филиппова': 8,\n",
       "         'эдуарда': 23,\n",
       "         'владимировича': 97,\n",
       "         'который': 33865,\n",
       "         'уклоняется': 50,\n",
       "         'уплаты': 694,\n",
       "         'взятых': 165,\n",
       "         'кредитов': 5010,\n",
       "         'договор': 26700,\n",
       "         '№': 12973,\n",
       "         '81014': 1,\n",
       "         '20.10.2013': 20,\n",
       "         '2464946': 1,\n",
       "         '09.10.2014': 42,\n",
       "         'всей': 3586,\n",
       "         'ответственностью': 155,\n",
       "         'хочу': 24739,\n",
       "         'заверить': 357,\n",
       "         'вышеуказанный': 194,\n",
       "         'гражданин': 604,\n",
       "         'которого': 8256,\n",
       "         'разыскиваете': 28,\n",
       "         'знаком': 649,\n",
       "         'моем': 6900,\n",
       "         'адресе': 216,\n",
       "         'зарегистрирован': 816,\n",
       "         'каким': 4867,\n",
       "         'образом': 11849,\n",
       "         'удостоверившись': 61,\n",
       "         'подлинности': 185,\n",
       "         'документов': 16076,\n",
       "         'оформили': 4288,\n",
       "         'имя': 7976,\n",
       "         'кредитный': 11557,\n",
       "         'меньшей': 377,\n",
       "         'мере': 2798,\n",
       "         'понятно': 8141,\n",
       "         'почему': 46088,\n",
       "         'вашей': 5973,\n",
       "         'милости': 119,\n",
       "         'должна': 14558,\n",
       "         'переживать': 292,\n",
       "         'бояться': 130,\n",
       "         'свое': 7769,\n",
       "         'имущество': 827,\n",
       "         'доставляют': 135,\n",
       "         'серьезные': 406,\n",
       "         'неудобства': 1642,\n",
       "         'нарушают': 403,\n",
       "         'мои': 32416,\n",
       "         'гражданские': 53,\n",
       "         'права': 4672,\n",
       "         'закон': 1965,\n",
       "         'защите': 1856,\n",
       "         'персональных': 3847,\n",
       "         'данных': 12559,\n",
       "         'убедительно': 563,\n",
       "         'прошу': 26766,\n",
       "         'прекратить': 2384,\n",
       "         'посылать': 295,\n",
       "         'вопросам': 2309,\n",
       "         'которым': 4956,\n",
       "         'имею': 9346,\n",
       "         'случае': 18284,\n",
       "         'отклонения': 67,\n",
       "         'моей': 31971,\n",
       "         'претензии': 11077,\n",
       "         'буду': 21398,\n",
       "         'вынуждена': 2251,\n",
       "         'обратиться': 13886,\n",
       "         'жалобами': 284,\n",
       "         'другие': 8097,\n",
       "         'органы': 2360,\n",
       "         'росспотребнадзор': 13,\n",
       "         'центральный': 2824,\n",
       "         'банк': 196303,\n",
       "         'службу': 11827,\n",
       "         'финансового': 642,\n",
       "         'омбудсмена': 30,\n",
       "         'кроме': 10576,\n",
       "         'подано': 945,\n",
       "         'заявление': 69524,\n",
       "         'полицию': 3092,\n",
       "         'суд': 9610,\n",
       "         'возмещение': 483,\n",
       "         'причиненного': 53,\n",
       "         'морального': 776,\n",
       "         'вреда': 629,\n",
       "         'надеюсь': 11426,\n",
       "         'скорое': 156,\n",
       "         'решение': 13979,\n",
       "         'моего': 25172,\n",
       "         'вопроса': 6178,\n",
       "         'доброго': 3089,\n",
       "         'дня': 31066,\n",
       "         'держателем': 1422,\n",
       "         'зарплатной': 3319,\n",
       "         'карты': 100877,\n",
       "         'выданной': 374,\n",
       "         'сбербанком': 2213,\n",
       "         'россии': 12004,\n",
       "         '2008': 2738,\n",
       "         'году': 8240,\n",
       "         'сменила': 380,\n",
       "         'фамилию': 4030,\n",
       "         'предоставила': 1129,\n",
       "         'документы': 28575,\n",
       "         'копию': 6345,\n",
       "         'нового': 3589,\n",
       "         'паспорта': 6775,\n",
       "         'свидетельства': 605,\n",
       "         'браке': 303,\n",
       "         'перевыпустили': 793,\n",
       "         'карту': 104947,\n",
       "         'мужа': 2133,\n",
       "         'токарева': 6,\n",
       "         'мария': 835,\n",
       "         'александровна': 443,\n",
       "         'девичья': 116,\n",
       "         'секлетина': 2,\n",
       "         'возникла': 3236,\n",
       "         'необходимость': 2202,\n",
       "         'подключить': 3073,\n",
       "         'услугу': 7300,\n",
       "         'сбербанк': 22572,\n",
       "         'онлайн': 8893,\n",
       "         'получилось': 5028,\n",
       "         'главной': 386,\n",
       "         'странице': 1270,\n",
       "         'отображались': 116,\n",
       "         'связалась': 1070,\n",
       "         'техническим': 1496,\n",
       "         'специалистом': 2208,\n",
       "         'отделения': 24889,\n",
       "         'сбербанка': 32719,\n",
       "         'котором': 9055,\n",
       "         'обслуживалась': 421,\n",
       "         'пояснил': 834,\n",
       "         'базе': 2953,\n",
       "         'ещё': 18880,\n",
       "         'девичьей': 48,\n",
       "         'фамилией': 568,\n",
       "         'предложил': 4245,\n",
       "         'выслать': 1470,\n",
       "         'сканы': 586,\n",
       "         'необходимых': 1155,\n",
       "         'выслала': 193,\n",
       "         'оставив': 606,\n",
       "         'контакты': 962,\n",
       "         'звонка': 9368,\n",
       "         'дождалась': 732,\n",
       "         'ч/з': 149,\n",
       "         'некоторое': 4283,\n",
       "         'время': 65554,\n",
       "         'звоню': 18450,\n",
       "         'сама': 9437,\n",
       "         'объясняю': 3343,\n",
       "         'ситуацию': 15107,\n",
       "         'пробивают': 20,\n",
       "         'числюсь': 143,\n",
       "         'секлетиной': 1,\n",
       "         'хотя': 33270,\n",
       "         'связи': 18119,\n",
       "         'истечением': 155,\n",
       "         'срока': 6596,\n",
       "         'обслуживания': 16788,\n",
       "         'высылаю': 64,\n",
       "         'результат': 4112,\n",
       "         '0': 2937,\n",
       "         'ноль': 1717,\n",
       "         'помочь': 10460,\n",
       "         'разобраться': 12382,\n",
       "         'ситуации': 20866,\n",
       "         'уважением': 6609,\n",
       "         'здравствуйте': 14157,\n",
       "         'дублирую': 82,\n",
       "         '03.06.2015': 7,\n",
       "         'можайский': 39,\n",
       "         '02.06.2015': 7,\n",
       "         'мною': 10461,\n",
       "         'дебетовой': 5662,\n",
       "         'карте': 35429,\n",
       "         'совершена': 686,\n",
       "         'покупка': 1522,\n",
       "         'интернет-магазине': 435,\n",
       "         'сумму': 46746,\n",
       "         '3028': 6,\n",
       "         'руб.': 6892,\n",
       "         'произошло': 5917,\n",
       "         'двойное': 199,\n",
       "         'списание': 5902,\n",
       "         'раза': 12960,\n",
       "         'руб': 31857,\n",
       "         '6056': 8,\n",
       "         'имеются': 1408,\n",
       "         'смс': 37967,\n",
       "         'сообщения': 3806,\n",
       "         'интернет-магазин': 173,\n",
       "         'подтвердил': 1716,\n",
       "         'платеж': 24317,\n",
       "         'товар': 2274,\n",
       "         'получен': 2417,\n",
       "         '05.06.2015.': 1,\n",
       "         'вернуть': 10657,\n",
       "         'счет': 55926,\n",
       "         'ошибочно': 1322,\n",
       "         'списанную': 287,\n",
       "         'размере': 12574,\n",
       "         'давний': 177,\n",
       "         'клиент': 17754,\n",
       "         'вашего': 13908,\n",
       "         'владимир': 648,\n",
       "         'номер': 43749,\n",
       "         'указан': 3973,\n",
       "         'заявлении': 3658,\n",
       "         'открыл': 5078,\n",
       "         'расчетный': 2667,\n",
       "         'сбербанке': 6549,\n",
       "         'юр': 1539,\n",
       "         'лицо': 4345,\n",
       "         '..': 7956,\n",
       "         'одно': 8093,\n",
       "         '.....': 347,\n",
       "         'берется': 484,\n",
       "         'комиссии': 11156,\n",
       "         'перевод': 16117,\n",
       "         'денежных': 14049,\n",
       "         'средств': 32776,\n",
       "         'счета': 38889,\n",
       "         'лица': 4586,\n",
       "         'физ.лица': 132,\n",
       "         'условия': 15023,\n",
       "         'сохранялись': 8,\n",
       "         '4': 16993,\n",
       "         'месяца': 23706,\n",
       "         'мое': 16967,\n",
       "         'удивление': 2880,\n",
       "         'проведении': 1151,\n",
       "         'очередной': 7832,\n",
       "         'операции': 22488,\n",
       "         'перевода': 6557,\n",
       "         'денег': 41897,\n",
       "         'списали': 3474,\n",
       "         'комиссию': 8113,\n",
       "         '1': 27774,\n",
       "         'понимаю': 13125,\n",
       "         'вправе': 1218,\n",
       "         'изменить': 1740,\n",
       "         'процентные': 775,\n",
       "         'ставки': 4816,\n",
       "         'размер': 1631,\n",
       "         'предупредив': 398,\n",
       "         'известив': 37,\n",
       "         'это': 183054,\n",
       "         'отношение': 9560,\n",
       "         'клиентам': 12181,\n",
       "         'получается': 9314,\n",
       "         'потерял': 2732,\n",
       "         'малую': 69,\n",
       "         'тому': 6815,\n",
       "         'удосужился': 501,\n",
       "         'известить': 199,\n",
       "         'завтра': 8586,\n",
       "         'какое': 3413,\n",
       "         'условие': 1028,\n",
       "         'изменится': 557,\n",
       "         'должен': 19914,\n",
       "         'останусь': 263,\n",
       "         'обслуживание': 20628,\n",
       "         'каждый': 14471,\n",
       "         'месяц': 24329,\n",
       "         'плачу': 3822,\n",
       "         '04.03.2015': 45,\n",
       "         'г.': 38154,\n",
       "         'взяла': 5164,\n",
       "         'кредит': 80282,\n",
       "         'вашем': 6822,\n",
       "         'банке': 65400,\n",
       "         'заявленная': 86,\n",
       "         'сумма': 32024,\n",
       "         '200': 4126,\n",
       "         'т.': 2088,\n",
       "         'рублей': 50437,\n",
       "         'год': 17315,\n",
       "         'менеджер': 11805,\n",
       "         'сделала': 4446,\n",
       "         'срок': 25540,\n",
       "         'кредитования': 3765,\n",
       "         '2': 46311,\n",
       "         'ссылаясь': 1586,\n",
       "         'ответ': 48307,\n",
       "         'получим': 234,\n",
       "         'сразу': 30597,\n",
       "         'положительный': 2519,\n",
       "         'выдала': 1589,\n",
       "         'кучу': 2385,\n",
       "         'документации': 195,\n",
       "         'страховке': 905,\n",
       "         'отказалась': 3047,\n",
       "         'подписывать': 1431,\n",
       "         'ответила': 8526,\n",
       "         'страховок': 595,\n",
       "         'дадут': 1654,\n",
       "         'результате': 7848,\n",
       "         'действий': 3527,\n",
       "         'документами': 2379,\n",
       "         '...': 113647,\n",
       "         'получила': 10962,\n",
       "         'руки': 4723,\n",
       "         'п.п': 99,\n",
       "         'около': 15907,\n",
       "         '180': 769,\n",
       "         'т.р.': 1070,\n",
       "         'уверила': 623,\n",
       "         'страховку': 5492,\n",
       "         'досрочном': 2399,\n",
       "         'погашении': 3120,\n",
       "         'кредита': 36823,\n",
       "         'верну': 230,\n",
       "         'течении': 7981,\n",
       "         '40': 6446,\n",
       "         'рабочих': 9431,\n",
       "         'дней': 55627,\n",
       "         'пришла': 15609,\n",
       "         'кассу': 11147,\n",
       "         'получать': 4660,\n",
       "         'денежные': 10813,\n",
       "         'средства': 23919,\n",
       "         'взяли': 3642,\n",
       "         '9000,00': 7,\n",
       "         'одну': 5391,\n",
       "         'итоге': 21786,\n",
       "         'полученная': 167,\n",
       "         'мной': 26591,\n",
       "         'оказалась': 3097,\n",
       "         '173': 45,\n",
       "         'т.р': 3348,\n",
       "         'копейками': 844,\n",
       "         'вместо': 7888,\n",
       "         'заявленных': 337,\n",
       "         '14.03.2015': 31,\n",
       "         'досрочно': 7512,\n",
       "         'погасила': 1685,\n",
       "         'заплатила': 1417,\n",
       "         'пользование': 2379,\n",
       "         'денежными': 1166,\n",
       "         'средствами': 2651,\n",
       "         'вышло': 1080,\n",
       "         '203': 41,\n",
       "         'написала': 9804,\n",
       "         '18.03.2015': 55,\n",
       "         'возврат': 5208,\n",
       "         'страховки': 6866,\n",
       "         'отправилась': 806,\n",
       "         'ждать': 17186,\n",
       "         'поступления': 1641,\n",
       "         'истечении': 1654,\n",
       "         'т.е': 14788,\n",
       "         '14': 6897,\n",
       "         'мая': 8918,\n",
       "         'отделении': 39963,\n",
       "         'ответили': 10993,\n",
       "         'вопрос': 49316,\n",
       "         'перевела': 1095,\n",
       "         'страховая': 1261,\n",
       "         'компания': 2375,\n",
       "         'положенную': 88,\n",
       "         '22': 4378,\n",
       "         'принесла': 888,\n",
       "         'письменную': 574,\n",
       "         'претензию': 16091,\n",
       "         'безобразие': 967,\n",
       "         'приняла': 2212,\n",
       "         'зарегистрировала': 187,\n",
       "         'спросила': 4640,\n",
       "         'счету': 12027,\n",
       "         '....': 2388,\n",
       "         'спрашиваю': 5967,\n",
       "         'молчите': 31,\n",
       "         'говорите': 522,\n",
       "         'думала': 1839,\n",
       "         'деньги': 130062,\n",
       "         'придут': 1043,\n",
       "         'позвонит': 705,\n",
       "         'сегодня': 42378,\n",
       "         '5': 27513,\n",
       "         'июня': 6246,\n",
       "         'позвонила': 14558,\n",
       "         'менеджеру': 3326,\n",
       "         'претензия': 5714,\n",
       "         'регламенту': 402,\n",
       "         'рассматривается': 1605,\n",
       "         '30': 18841,\n",
       "         '15': 15793,\n",
       "         'какие': 8650,\n",
       "         'сложности': 1469,\n",
       "         'уплаченные': 214,\n",
       "         'которой': 13280,\n",
       "         'пользовались': 712,\n",
       "         'сможете': 1118,\n",
       "         'сделать': 22149,\n",
       "         'обращаться': 6791,\n",
       "         'отправила': 2752,\n",
       "         'сообщение': 8321,\n",
       "         'сайт': 7906,\n",
       "         'роспотребнадзора': 163,\n",
       "         'многие': 3128,\n",
       "         'вкладчики': 688,\n",
       "         '1000': 4150,\n",
       "         'счастливой': 121,\n",
       "         'мыслью': 197,\n",
       "         'пополнить': 4133,\n",
       "         'последствии': 417,\n",
       "         'говорится': 1837,\n",
       "         'тут-то': 2087,\n",
       "         '8': 10867,\n",
       "         'внесение': 1549,\n",
       "         'никакого': 7931,\n",
       "         'нарушения': 832,\n",
       "         'договора': 24818,\n",
       "         'вспоминается': 85,\n",
       "         'ловкость': 11,\n",
       "         'рук': 543,\n",
       "         'совершенно': 6413,\n",
       "         'непонятно': 4423,\n",
       "         'смотрит': 899,\n",
       "         'цб': 5581,\n",
       "         'абстрактно': 6,\n",
       "         'предлагаю': 1015,\n",
       "         'представить': 1065,\n",
       "         'следующее': 3151,\n",
       "         'взяв': 903,\n",
       "         'месте': 6950,\n",
       "         'слово': 5332,\n",
       "         'неуместное': 4,\n",
       "         'январе': 2494,\n",
       "         'процентов': 10271,\n",
       "         'приходите': 2811,\n",
       "         'вносить': 2720,\n",
       "         'просите': 144,\n",
       "         'добавить': 1428,\n",
       "         'сумме': 6551,\n",
       "         'эдак': 116,\n",
       "         '20': 15438,\n",
       "         'действительно': 10277,\n",
       "         'ситуация-то': 5,\n",
       "         'изменилась': 807,\n",
       "         'подал': 3912,\n",
       "         'получение': 5721,\n",
       "         'уэк': 339,\n",
       "         '25.05.2015.': 4,\n",
       "         'переодически': 13,\n",
       "         'сайте': 28111,\n",
       "         'ueconline.ru': 1,\n",
       "         'мониторил': 20,\n",
       "         'состояние': 1631,\n",
       "         'вчера': 10394,\n",
       "         'увидел': 4304,\n",
       "         'статус': 3073,\n",
       "         'изменился': 760,\n",
       "         'готова': 5365,\n",
       "         'выдаче': 4331,\n",
       "         'позвонил': 22500,\n",
       "         'горячую': 8720,\n",
       "         'линию': 9636,\n",
       "         'уос': 1,\n",
       "         '8442': 13,\n",
       "         '301414': 1,\n",
       "         'сказали': 40817,\n",
       "         'звоните': 3077,\n",
       "         '993575': 1,\n",
       "         'никто': 22900,\n",
       "         'брал': 5523,\n",
       "         'трубку': 8518,\n",
       "         'пошел': 4939,\n",
       "         'операционистка': 3450,\n",
       "         'сообщила': 8539,\n",
       "         'исказала': 1,\n",
       "         'пакете': 236,\n",
       "         'мою': 17057,\n",
       "         'нашла': 2177,\n",
       "         'вид': 1661,\n",
       "         'знаю': 17334,\n",
       "         'предполагаемой': 80,\n",
       "         'даты': 5131,\n",
       "         'выдачи': 3917,\n",
       "         'подошел': 2513,\n",
       "         'разберитесь': 888,\n",
       "         'крайне': 5105,\n",
       "         'удивлён': 363,\n",
       "         'новостью': 210,\n",
       "         '27/28': 2,\n",
       "         'унификации': 5,\n",
       "         'пожалуй': 868,\n",
       "         'плохо': 3337,\n",
       "         'подходит': 2032,\n",
       "         'отражает': 104,\n",
       "         'положительную': 520,\n",
       "         'эмоцию': 5,\n",
       "         'скорее': 4562,\n",
       "         'ошарашен': 81,\n",
       "         'удручён': 1,\n",
       "         'считаю': 8295,\n",
       "         'данную': 5521,\n",
       "         'унификацию': 5,\n",
       "         'неправомерной': 32,\n",
       "         'незаконной': 154,\n",
       "         'незаконность': 48,\n",
       "         'постараюсь': 752,\n",
       "         'доказывать': 825,\n",
       "         'отстаивать': 216,\n",
       "         'свои': 22063,\n",
       "         'одна': 8980,\n",
       "         'сторон': 676,\n",
       "         'акцептованного': 1,\n",
       "         'допускаю': 334,\n",
       "         'дело': 14913,\n",
       "         'проиграно': 2,\n",
       "         'роль': 334,\n",
       "         'терпилы': 2,\n",
       "         'молча': 786,\n",
       "         'принимающего': 48,\n",
       "         'разворот': 23,\n",
       "         'событий': 1072,\n",
       "         'претит': 5,\n",
       "         'всё': 27204,\n",
       "         'данные': 20878,\n",
       "         'действия': 12286,\n",
       "         'будут': 15969,\n",
       "         'сочтены': 5,\n",
       "         'правомерными': 25,\n",
       "         'своей': 13148,\n",
       "         'стороны': 10161,\n",
       "         'применять': 126,\n",
       "         'вполне': 4695,\n",
       "         'законные': 262,\n",
       "         'скажем': 922,\n",
       "         'некрасивые': 9,\n",
       "         'кстати': 9642,\n",
       "         'справки': 4564,\n",
       "         'невозврат': 20,\n",
       "         'взятого': 187,\n",
       "         'признается': 122,\n",
       "         'законным': 162,\n",
       "         'некоторых': 2066,\n",
       "         'оговорках': 2,\n",
       "         'сотрудники': 35565,\n",
       "         'восточный': 1392,\n",
       "         'систематически': 162,\n",
       "         'сообщаю': 1210,\n",
       "         'персональные': 1533,\n",
       "         'телефону': 28882,\n",
       "         'моим': 6617,\n",
       "         'близким': 268,\n",
       "         'звонят': 7951,\n",
       "         'представляясь': 136,\n",
       "         'грубой': 1155,\n",
       "         'форме': 6567,\n",
       "         'персональную': 93,\n",
       "         'информацию': 21843,\n",
       "         'является': 9287,\n",
       "         'нарушением': 756,\n",
       "         'закона': 3090,\n",
       "         '№98-фз': 1,\n",
       "         'коммерческой': 184,\n",
       "         'тайне': 190,\n",
       "         'очень': 66174,\n",
       "         'негативно': 288,\n",
       "         'сказаться': 28,\n",
       "         'состоянии': 3318,\n",
       "         'здоровья': 1032,\n",
       "         'близкого': 125,\n",
       "         'человека': 8458,\n",
       "         'поддерживаю': 289,\n",
       "         'постоянную': 123,\n",
       "         'связь': 2876,\n",
       "         'проблемы': 18854,\n",
       "         'оплатой': 951,\n",
       "         'очередных': 212,\n",
       "         'платежей': 10956,\n",
       "         'причине': 6400,\n",
       "         'ухудшения': 84,\n",
       "         'материального': 221,\n",
       "         'положения': 814,\n",
       "         'дате': 849,\n",
       "         'взноса': 1440,\n",
       "         'добросовестно': 611,\n",
       "         'общаюсь': 934,\n",
       "         'сотрудником': 5748,\n",
       "         'пермь': 276,\n",
       "         'обещал': 1348,\n",
       "         'отменить': 1558,\n",
       "         'начисленные': 930,\n",
       "         'штрафы': 3143,\n",
       "         'погашения': 12242,\n",
       "         'просроченной': 2057,\n",
       "         'сделал': 7557,\n",
       "         'звонки': 17798,\n",
       "         'поступают': 3515,\n",
       "         'известно': 2848,\n",
       "         'откуда': 5071,\n",
       "         'заемщиком': 950,\n",
       "         'втб': 7654,\n",
       "         '24.': 765,\n",
       "         'назад': 18638,\n",
       "         'млн': 1275,\n",
       "         'платила': 1901,\n",
       "         'исправно': 2918,\n",
       "         'года.в': 1,\n",
       "         'ухудшением': 119,\n",
       "         'положения-я': 1,\n",
       "         'поменяла': 476,\n",
       "         'работу': 13665,\n",
       "         'заработная': 283,\n",
       "         'плата': 1919,\n",
       "         'составляет': 3932,\n",
       "         '000': 25932,\n",
       "         'ежемесячный': 2842,\n",
       "         'кредиту-32': 1,\n",
       "         'ухудшении': 17,\n",
       "         'уведомляла': 27,\n",
       "         'отметкой': 627,\n",
       "         'получении': 4138,\n",
       "         'отказываюсь': 1961,\n",
       "         'платить': 13351,\n",
       "         'шанс': 446,\n",
       "         'ближайшие': 1002,\n",
       "         '2-3': 2824,\n",
       "         'материальное': 116,\n",
       "         'положение': 1561,\n",
       "         'значительно': 1055,\n",
       "         'улучшиться': 10,\n",
       "         'возможность': 9361,\n",
       "         'гасить': 1128,\n",
       "         'полной': 2530,\n",
       "         'данный': 15221,\n",
       "         'момент': 21879,\n",
       "         'ситуация': 15499,\n",
       "         'такая': 11653,\n",
       "         'обратилась': 10097,\n",
       "         'помощью': 4071,\n",
       "         'предложили': 9620,\n",
       "         'просрочить': 85,\n",
       "         'заранее': 7784,\n",
       "         'появления': 427,\n",
       "         'просрочки': 4784,\n",
       "         'рассматривает': 449,\n",
       "         'реструктуризации': 1326,\n",
       "         'давно': 9538,\n",
       "         'изменились': 693,\n",
       "         'уведомила': 293,\n",
       "         'скрываться': 77,\n",
       "         'собираюсь': 3299,\n",
       "         'патовая-платить': 1,\n",
       "         'нечем': 528,\n",
       "         'пока': 25493,\n",
       "         'идет': 5103,\n",
       "         'встречу': 2069,\n",
       "         'данной': 12111,\n",
       "         'согласовать': 161,\n",
       "         'посильную': 28,\n",
       "         'ежемесячного': 2573,\n",
       "         'платежа': 20192,\n",
       "         'решением': 998,\n",
       "         'отчаянии': 84,\n",
       "         'безвыходная': 25,\n",
       "         'оббиваю': 4,\n",
       "         'пороги': 109,\n",
       "         'несколько': 29566,\n",
       "         'диалогу': 89,\n",
       "         'искать': 3572,\n",
       "         'решения': 9300,\n",
       "         'решении': 3247,\n",
       "         'засомневалась': 55,\n",
       "         'какую': 2706,\n",
       "         'ставить': 1448,\n",
       "         'оценку': 4953,\n",
       "         'пишу': 5618,\n",
       "         'неё': 2876,\n",
       "         'альфа-банка': 5350,\n",
       "         '2012': 8056,\n",
       "         'наличными': 5447,\n",
       "         'погашаю': 434,\n",
       "         'т.ч': 1182,\n",
       "         'частично-досрочными': 3,\n",
       "         'суммами': 803,\n",
       "         'выпустили': 1194,\n",
       "         'кредитную': 15070,\n",
       "         'весьма': 2930,\n",
       "         'выгодных': 707,\n",
       "         'условиях': 5527,\n",
       "         'пользуюсь': 9937,\n",
       "         'вношу': 1315,\n",
       "         'платежи': 11812,\n",
       "         'днях': 2142,\n",
       "         'звонит': 4642,\n",
       "         'девушка': 28530,\n",
       "         'говорит': 12183,\n",
       "         'просрочка': 4066,\n",
       "         'оставаясь': 40,\n",
       "         'лезу': 121,\n",
       "         'яндекс.деньги': 258,\n",
       "         'проверяю': 774,\n",
       "         'карта': 49998,\n",
       "         'оплачены': 282,\n",
       "         'выдаёт': 423,\n",
       "         'нашем': 2970,\n",
       "         '3': 32420,\n",
       "         'кредитных': 5704,\n",
       "         'продукта': 1079,\n",
       "         'апреле': 2084,\n",
       "         '2014': 10569,\n",
       "         'брали': 1607,\n",
       "         'потребительский': 4082,\n",
       "         'продукт': 2250,\n",
       "         'шоке': 3170,\n",
       "         'т.к': 34075,\n",
       "         'никаких': 20138,\n",
       "         'альфе': 892,\n",
       "         'брала': 3798,\n",
       "         'говорят': 16484,\n",
       "         'нужно': 34823,\n",
       "         'прийти': 4364,\n",
       "         'отделение': 66468,\n",
       "         'написать': 17962,\n",
       "         'кладу': 640,\n",
       "         'вспоминаю': 319,\n",
       "         'прошлого': 1674,\n",
       "         'подавала': 775,\n",
       "         'заявку': 22710,\n",
       "         'мотосалон': 2,\n",
       "         'мини-анкетку': 1,\n",
       "         'первоначального': 648,\n",
       "         'позже': 6349,\n",
       "         'перезвонили': 2623,\n",
       "         'одобрена': 1720,\n",
       "         'моменту': 715,\n",
       "         'вариант': 3073,\n",
       "         'знакомых': 1791,\n",
       "         'договорилась': 124,\n",
       "         'рассрочке': 126,\n",
       "         'салона': 814,\n",
       "         'звонили': 6512,\n",
       "         'дважды': 3201,\n",
       "         'подтверждала': 81,\n",
       "         'свой': 14463,\n",
       "         'отказ': 10883,\n",
       "         'туда': 9657,\n",
       "         'ездила': 294,\n",
       "         'подписывала': 743,\n",
       "         'остаюсь': 361,\n",
       "         'спокойна': 92,\n",
       "         'приятного': 260,\n",
       "         'равно': 7348,\n",
       "         'мало': 7823,\n",
       "         '№1506041400': 1,\n",
       "         'смс-ка': 651,\n",
       "         'принято': 4403,\n",
       "         'отрицательное': 605,\n",
       "         'делать': 15975,\n",
       "         'тратить': 3685,\n",
       "         'своё': 1778,\n",
       "         'идти': 6479,\n",
       "         'развлечения': 39,\n",
       "         'внезапно': 823,\n",
       "         'свалившиеся': 2,\n",
       "         'голову': 1516,\n",
       "         'радуют': 229,\n",
       "         'сих': 11661,\n",
       "         'пор': 14338,\n",
       "         'довольна': 1915,\n",
       "         'альфа-банком': 658,\n",
       "         '19': 5054,\n",
       "         'апреля': 9006,\n",
       "         'пыталась': 3453,\n",
       "         'платёж': 3498,\n",
       "         'систему': 4735,\n",
       "         'бинбанк24': 3,\n",
       "         'списана': 2082,\n",
       "         'перевода+50р.+1': 1,\n",
       "         'суммы': 20158,\n",
       "         'забракован': 33,\n",
       "         'сталкиваясь': 38,\n",
       "         'подобным': 680,\n",
       "         'первый': 17152,\n",
       "         'смиренно': 44,\n",
       "         'ожидала': 739,\n",
       "         'двое': 1016,\n",
       "         'суток': 5603,\n",
       "         'вернутся': 810,\n",
       "         'обратно': 5707,\n",
       "         'пришли': 5942,\n",
       "         'возмущённая': 6,\n",
       "         'сути': 2238,\n",
       "         'оказанную': 132,\n",
       "         'комиссия': 9480,\n",
       "         'возвращена': 566,\n",
       "         'полном': 3402,\n",
       "         'объёме': 311,\n",
       "         'раньше': 9601,\n",
       "         'онлайн-поддержку': 10,\n",
       "         'оператор': 16149,\n",
       "         'сообщил': 8446,\n",
       "         'вернуться': 1255,\n",
       "         'полностью': 9071,\n",
       "         'понимает': 923,\n",
       "         'вообще': 29935,\n",
       "         'отвлекаясь': 66,\n",
       "         'темы': 446,\n",
       "         'хочется': 7233,\n",
       "         'высказать': 438,\n",
       "         'возмущение': 617,\n",
       "         'абсолютной': 81,\n",
       "         'некомпетентностью': 369,\n",
       "         'работы': 22685,\n",
       "         'онлайн-операторов': 1,\n",
       "         'во-первых': 2923,\n",
       "         'кажется': 3818,\n",
       "         'ними': 4015,\n",
       "         'всеми': 3097,\n",
       "         'скоро': 2866,\n",
       "         'будем': 3856,\n",
       "         'дружить': 55,\n",
       "         'семьями': 9,\n",
       "         'ибо': 3341,\n",
       "         'бесчисленные': 15,\n",
       "         'обращения': 9555,\n",
       "         'попадались': 90,\n",
       "         'одни': 1953,\n",
       "         'те': 6079,\n",
       "         'оператора': 7182,\n",
       "         'которые': 28523,\n",
       "         'судя': 3680,\n",
       "         'ответам': 106,\n",
       "         '10-15': 986,\n",
       "         'минут': 37181,\n",
       "         'выкинуло': 17,\n",
       "         'чата': 94,\n",
       "         'просрочку': 3156,\n",
       "         'ожидания': 5767,\n",
       "         'либо': 13308,\n",
       "         'придя': 2465,\n",
       "         'успевают': 183,\n",
       "         'выспаться': 32,\n",
       "         'ответами': 187,\n",
       "         'клиенту': 9528,\n",
       "         'наоборот': 1542,\n",
       "         'своим': 8319,\n",
       "         'малочисленным': 1,\n",
       "         'составом': 32,\n",
       "         'обслуживают': 1090,\n",
       "         'россию': 423,\n",
       "         'чём': 1779,\n",
       "         'клиента': 20160,\n",
       "         'человек': 17868,\n",
       "         'занятой': 140,\n",
       "         'подобных': 1979,\n",
       "         '«': 57489,\n",
       "         'задушевных': 2,\n",
       "         'бесед': 87,\n",
       "         '»': 56779,\n",
       "         'во-вторых': 2189,\n",
       "         'беседуешь': 2,\n",
       "         'складывается': 1378,\n",
       "         'впечатление': 6417,\n",
       "         'работники': 3213,\n",
       "         'должно': 4842,\n",
       "         'самом': 5529,\n",
       "         'деле': 4185,\n",
       "         'существует': 2677,\n",
       "         'абсолютное': 133,\n",
       "         'незнание': 189,\n",
       "         'законов': 385,\n",
       "         'правил': 1242,\n",
       "         'сфере': 1019,\n",
       "         'пожалуйста': 11686,\n",
       "         'подтяните': 6,\n",
       "         'мат': 176,\n",
       "         'части': 2882,\n",
       "         'сказать': 16313,\n",
       "         'разорвать': 154,\n",
       "         'данным': 4256,\n",
       "         'вашим': 5200,\n",
       "         'лет': 19160,\n",
       "         'времён': 78,\n",
       "         'приватбанка': 295,\n",
       "         'именно': 20119,\n",
       "         'лучших': 826,\n",
       "         'систем': 607,\n",
       "         'онлайн-банкинга': 42,\n",
       "         'взгляд': 3073,\n",
       "         'операторы': 3400,\n",
       "         'офисных': 45,\n",
       "         'центрах': 105,\n",
       "         'живу': 2775,\n",
       "         'воронеже': 266,\n",
       "         'нравятся': 305,\n",
       "         'многочисленные': 457,\n",
       "         'визиты': 186,\n",
       "         'различные': 952,\n",
       "         'города': 3758,\n",
       "         'просто': 45039,\n",
       "         'повезло': 1638,\n",
       "         'возникало': 1757,\n",
       "         'пара': 844,\n",
       "         'нареканий': 1403,\n",
       "         'дай': 1031,\n",
       "         'бог': 1580,\n",
       "         'изменилось': 1352,\n",
       "         'возвращаясь': 171,\n",
       "         'моему': 8836,\n",
       "         'вопросу': 5205,\n",
       "         'двухчасовой': 8,\n",
       "         'беседы': 844,\n",
       "         'оператором': 3091,\n",
       "         'оформлена': 1884,\n",
       "         'заявка': 7434,\n",
       "         'заявлено': 787,\n",
       "         'рассмотрена': 1600,\n",
       "         'течение': 23350,\n",
       "         'истечению': 528,\n",
       "         'какого-либо': 502,\n",
       "         'иного': 415,\n",
       "         'уведомления': 2810,\n",
       "         'результатах': 824,\n",
       "         'рассмотрения': 10845,\n",
       "         'обещаны': 23,\n",
       "         'снова': 21032,\n",
       "         'онлайн-оператору': 2,\n",
       "         'долгой': 194,\n",
       "         'повторно': 4600,\n",
       "         'отправил': 4015,\n",
       "         'сей': 1764,\n",
       "         'сказав': 2530,\n",
       "         'подождала': 291,\n",
       "         'всякий': 2715,\n",
       "         'случай': 6645,\n",
       "         '7': 9881,\n",
       "         'проблема': 12268,\n",
       "         'решена': 1797,\n",
       "         'пошла': 4067,\n",
       "         'офис': 35518,\n",
       "         'тех': 8300,\n",
       "         'история': 9785,\n",
       "         'никак': 6896,\n",
       "         'закончиться': 180,\n",
       "         'уведомлений': 955,\n",
       "         'вижу': 6224,\n",
       "         'полтора': 3013,\n",
       "         'этим': 16686,\n",
       "         'вернут': 3704,\n",
       "         'забракованный': 2,\n",
       "         ...})"
      ]
     },
     "execution_count": 60,
     "metadata": {},
     "output_type": "execute_result"
    }
   ],
   "source": [
    "freq_dict_wo_stopwords"
   ]
  },
  {
   "cell_type": "code",
   "execution_count": 78,
   "metadata": {},
   "outputs": [
    {
     "data": {
      "text/html": [
       "<div>\n",
       "<style scoped>\n",
       "    .dataframe tbody tr th:only-of-type {\n",
       "        vertical-align: middle;\n",
       "    }\n",
       "\n",
       "    .dataframe tbody tr th {\n",
       "        vertical-align: top;\n",
       "    }\n",
       "\n",
       "    .dataframe thead th {\n",
       "        text-align: right;\n",
       "    }\n",
       "</style>\n",
       "<table border=\"1\" class=\"dataframe\">\n",
       "  <thead>\n",
       "    <tr style=\"text-align: right;\">\n",
       "      <th></th>\n",
       "      <th>word</th>\n",
       "      <th>count</th>\n",
       "      <th>normal_form</th>\n",
       "      <th>POS</th>\n",
       "    </tr>\n",
       "  </thead>\n",
       "  <tbody>\n",
       "    <tr>\n",
       "      <th>0</th>\n",
       "      <td>добрый</td>\n",
       "      <td>18544</td>\n",
       "      <td>добрый</td>\n",
       "      <td>ADJF</td>\n",
       "    </tr>\n",
       "    <tr>\n",
       "      <th>1</th>\n",
       "      <td>день</td>\n",
       "      <td>75996</td>\n",
       "      <td>день</td>\n",
       "      <td>NOUN</td>\n",
       "    </tr>\n",
       "    <tr>\n",
       "      <th>2</th>\n",
       "      <td>являюсь</td>\n",
       "      <td>19694</td>\n",
       "      <td>являться</td>\n",
       "      <td>VERB</td>\n",
       "    </tr>\n",
       "    <tr>\n",
       "      <th>3</th>\n",
       "      <td>клиентом</td>\n",
       "      <td>25939</td>\n",
       "      <td>клиент</td>\n",
       "      <td>NOUN</td>\n",
       "    </tr>\n",
       "    <tr>\n",
       "      <th>4</th>\n",
       "      <td>банка</td>\n",
       "      <td>263958</td>\n",
       "      <td>банк</td>\n",
       "      <td>NOUN</td>\n",
       "    </tr>\n",
       "  </tbody>\n",
       "</table>\n",
       "</div>"
      ],
      "text/plain": [
       "       word   count normal_form   POS\n",
       "0    добрый   18544      добрый  ADJF\n",
       "1      день   75996        день  NOUN\n",
       "2   являюсь   19694    являться  VERB\n",
       "3  клиентом   25939      клиент  NOUN\n",
       "4     банка  263958        банк  NOUN"
      ]
     },
     "execution_count": 78,
     "metadata": {},
     "output_type": "execute_result"
    }
   ],
   "source": [
    "word_df = pd.DataFrame.from_dict(freq_dict_wo_stopwords, orient='index').reset_index()\n",
    "word_df = word_df.rename(columns={'index':'word', 0:'count'})\n",
    "word_df['normal_form'] = word_df.apply(lambda x: pymorphy2_analyzer.parse(x['word'])[0].normal_form, axis=1)\n",
    "word_df['POS'] = word_df.apply(lambda x: pymorphy2_analyzer.parse(x['word'])[0].tag.POS, axis=1)\n",
    "word_df.head()"
   ]
  },
  {
   "cell_type": "code",
   "execution_count": 93,
   "metadata": {},
   "outputs": [
    {
     "data": {
      "text/html": [
       "<div>\n",
       "<style scoped>\n",
       "    .dataframe tbody tr th:only-of-type {\n",
       "        vertical-align: middle;\n",
       "    }\n",
       "\n",
       "    .dataframe tbody tr th {\n",
       "        vertical-align: top;\n",
       "    }\n",
       "\n",
       "    .dataframe thead th {\n",
       "        text-align: right;\n",
       "    }\n",
       "</style>\n",
       "<table border=\"1\" class=\"dataframe\">\n",
       "  <thead>\n",
       "    <tr style=\"text-align: right;\">\n",
       "      <th></th>\n",
       "      <th>normal_form</th>\n",
       "      <th>POS</th>\n",
       "      <th>count</th>\n",
       "    </tr>\n",
       "  </thead>\n",
       "  <tbody>\n",
       "    <tr>\n",
       "      <th>13823</th>\n",
       "      <td>банк</td>\n",
       "      <td>NOUN</td>\n",
       "      <td>624274</td>\n",
       "    </tr>\n",
       "    <tr>\n",
       "      <th>33899</th>\n",
       "      <td>карта</td>\n",
       "      <td>NOUN</td>\n",
       "      <td>331816</td>\n",
       "    </tr>\n",
       "    <tr>\n",
       "      <th>24843</th>\n",
       "      <td>деньга</td>\n",
       "      <td>NOUN</td>\n",
       "      <td>178338</td>\n",
       "    </tr>\n",
       "    <tr>\n",
       "      <th>24811</th>\n",
       "      <td>день</td>\n",
       "      <td>NOUN</td>\n",
       "      <td>172636</td>\n",
       "    </tr>\n",
       "    <tr>\n",
       "      <th>37582</th>\n",
       "      <td>кредит</td>\n",
       "      <td>NOUN</td>\n",
       "      <td>154865</td>\n",
       "    </tr>\n",
       "    <tr>\n",
       "      <th>50699</th>\n",
       "      <td>отделение</td>\n",
       "      <td>NOUN</td>\n",
       "      <td>143616</td>\n",
       "    </tr>\n",
       "    <tr>\n",
       "      <th>70449</th>\n",
       "      <td>счёт</td>\n",
       "      <td>NOUN</td>\n",
       "      <td>140510</td>\n",
       "    </tr>\n",
       "    <tr>\n",
       "      <th>67866</th>\n",
       "      <td>сотрудник</td>\n",
       "      <td>NOUN</td>\n",
       "      <td>133662</td>\n",
       "    </tr>\n",
       "    <tr>\n",
       "      <th>35034</th>\n",
       "      <td>клиент</td>\n",
       "      <td>NOUN</td>\n",
       "      <td>132908</td>\n",
       "    </tr>\n",
       "    <tr>\n",
       "      <th>69934</th>\n",
       "      <td>сумма</td>\n",
       "      <td>NOUN</td>\n",
       "      <td>110914</td>\n",
       "    </tr>\n",
       "  </tbody>\n",
       "</table>\n",
       "</div>"
      ],
      "text/plain": [
       "      normal_form   POS   count\n",
       "13823        банк  NOUN  624274\n",
       "33899       карта  NOUN  331816\n",
       "24843      деньга  NOUN  178338\n",
       "24811        день  NOUN  172636\n",
       "37582      кредит  NOUN  154865\n",
       "50699   отделение  NOUN  143616\n",
       "70449        счёт  NOUN  140510\n",
       "67866   сотрудник  NOUN  133662\n",
       "35034      клиент  NOUN  132908\n",
       "69934       сумма  NOUN  110914"
      ]
     },
     "execution_count": 93,
     "metadata": {},
     "output_type": "execute_result"
    }
   ],
   "source": [
    "nouns_count = word_df[word_df.POS == 'NOUN'].groupby(['normal_form', 'POS'])['count'].agg(\"sum\").reset_index().sort_values(by=['count'], ascending=False)\n",
    "nouns_count.head(10)"
   ]
  },
  {
   "cell_type": "markdown",
   "metadata": {},
   "source": [
    "### 4. Постройте кривые Ципфа и Хипса"
   ]
  },
  {
   "cell_type": "code",
   "execution_count": 94,
   "metadata": {},
   "outputs": [
    {
     "data": {
      "image/png": "[encoded data removed]",
      "text/plain": [
       "<Figure size 432x288 with 1 Axes>"
      ]
     },
     "metadata": {
      "needs_background": "light"
     },
     "output_type": "display_data"
    }
   ],
   "source": [
    "import matplotlib.pyplot as plt\n",
    "%matplotlib inline\n",
    "\n",
    "freqs = list(freq_dict.values())\n",
    "freqs = sorted(freqs, reverse = True)\n",
    "\n",
    "fig, ax = plt.subplots()\n",
    "ax.plot(freqs[:300], range(300))\n",
    "plt.title(\"кривая Ципфа\")\n",
    "plt.show()"
   ]
  },
  {
   "cell_type": "code",
   "execution_count": 217,
   "metadata": {},
   "outputs": [
    {
     "name": "stderr",
     "output_type": "stream",
     "text": [
      "100%|██████████| 153499/153499 [1:10:29<00:00, 36.29it/s]\n"
     ]
    }
   ],
   "source": [
    "from tqdm import tqdm\n",
    "\n",
    "cnt = Counter()\n",
    "n_words = []\n",
    "n_tokens = []\n",
    "tokens = []\n",
    "for index, row in tqdm(df.iterrows(), total = len(df)):\n",
    "    tokens = word_tokenize(row['text'])\n",
    "    cnt.update([token for token in tokens if token not in punctuation_upd])\n",
    "    n_words.append(len(cnt))\n",
    "    n_tokens.append(sum(list(sum(cnt.values()))))"
   ]
  },
  {
   "cell_type": "code",
   "execution_count": 218,
   "metadata": {},
   "outputs": [
    {
     "data": {
      "image/png": "[encoded data removed]",
      "text/plain": [
       "<Figure size 432x288 with 1 Axes>"
      ]
     },
     "metadata": {
      "needs_background": "light"
     },
     "output_type": "display_data"
    }
   ],
   "source": [
    "fig, ax = plt.subplots()\n",
    "ax.plot(n_tokens, n_words)\n",
    "plt.title(\"кривая Хипса\")\n",
    "plt.show()"
   ]
  },
  {
   "cell_type": "code",
   "execution_count": 87,
   "metadata": {},
   "outputs": [
    {
     "data": {
      "text/plain": [
       "268"
      ]
     },
     "execution_count": 87,
     "metadata": {},
     "output_type": "execute_result"
    }
   ],
   "source": [
    "n_words[1]"
   ]
  },
  {
   "cell_type": "code",
   "execution_count": 86,
   "metadata": {},
   "outputs": [
    {
     "data": {
      "text/plain": [
       "5566"
      ]
     },
     "execution_count": 86,
     "metadata": {},
     "output_type": "execute_result"
    }
   ],
   "source": [
    "len(n_tokens[2])"
   ]
  },
  {
   "cell_type": "code",
   "execution_count": 72,
   "metadata": {},
   "outputs": [
    {
     "ename": "ValueError",
     "evalue": "x and y must have same first dimension, but have shapes (1,) and (153499,)",
     "output_type": "error",
     "traceback": [
      "\u001b[1;31m---------------------------------------------------------------------------\u001b[0m",
      "\u001b[1;31mValueError\u001b[0m                                Traceback (most recent call last)",
      "\u001b[1;32m~\\AppData\\Local\\Temp/ipykernel_14524/2128768053.py\u001b[0m in \u001b[0;36m<module>\u001b[1;34m\u001b[0m\n\u001b[0;32m      1\u001b[0m \u001b[0mfig\u001b[0m\u001b[1;33m,\u001b[0m \u001b[0max\u001b[0m \u001b[1;33m=\u001b[0m \u001b[0mplt\u001b[0m\u001b[1;33m.\u001b[0m\u001b[0msubplots\u001b[0m\u001b[1;33m(\u001b[0m\u001b[1;33m)\u001b[0m\u001b[1;33m\u001b[0m\u001b[1;33m\u001b[0m\u001b[0m\n\u001b[1;32m----> 2\u001b[1;33m \u001b[0max\u001b[0m\u001b[1;33m.\u001b[0m\u001b[0mplot\u001b[0m\u001b[1;33m(\u001b[0m\u001b[0mlen\u001b[0m\u001b[1;33m(\u001b[0m\u001b[0mn_tokens\u001b[0m\u001b[1;33m)\u001b[0m\u001b[1;33m,\u001b[0m \u001b[0mn_words\u001b[0m\u001b[1;33m)\u001b[0m\u001b[1;33m\u001b[0m\u001b[1;33m\u001b[0m\u001b[0m\n\u001b[0m\u001b[0;32m      3\u001b[0m \u001b[0mplt\u001b[0m\u001b[1;33m.\u001b[0m\u001b[0mtitle\u001b[0m\u001b[1;33m(\u001b[0m\u001b[1;34m\"кривая Хипса\"\u001b[0m\u001b[1;33m)\u001b[0m\u001b[1;33m\u001b[0m\u001b[1;33m\u001b[0m\u001b[0m\n\u001b[0;32m      4\u001b[0m \u001b[0mplt\u001b[0m\u001b[1;33m.\u001b[0m\u001b[0mshow\u001b[0m\u001b[1;33m(\u001b[0m\u001b[1;33m)\u001b[0m\u001b[1;33m\u001b[0m\u001b[1;33m\u001b[0m\u001b[0m\n",
      "\u001b[1;32m~\\anaconda3\\lib\\site-packages\\matplotlib\\axes\\_axes.py\u001b[0m in \u001b[0;36mplot\u001b[1;34m(self, scalex, scaley, data, *args, **kwargs)\u001b[0m\n\u001b[0;32m   1603\u001b[0m         \"\"\"\n\u001b[0;32m   1604\u001b[0m         \u001b[0mkwargs\u001b[0m \u001b[1;33m=\u001b[0m \u001b[0mcbook\u001b[0m\u001b[1;33m.\u001b[0m\u001b[0mnormalize_kwargs\u001b[0m\u001b[1;33m(\u001b[0m\u001b[0mkwargs\u001b[0m\u001b[1;33m,\u001b[0m \u001b[0mmlines\u001b[0m\u001b[1;33m.\u001b[0m\u001b[0mLine2D\u001b[0m\u001b[1;33m)\u001b[0m\u001b[1;33m\u001b[0m\u001b[1;33m\u001b[0m\u001b[0m\n\u001b[1;32m-> 1605\u001b[1;33m         \u001b[0mlines\u001b[0m \u001b[1;33m=\u001b[0m \u001b[1;33m[\u001b[0m\u001b[1;33m*\u001b[0m\u001b[0mself\u001b[0m\u001b[1;33m.\u001b[0m\u001b[0m_get_lines\u001b[0m\u001b[1;33m(\u001b[0m\u001b[1;33m*\u001b[0m\u001b[0margs\u001b[0m\u001b[1;33m,\u001b[0m \u001b[0mdata\u001b[0m\u001b[1;33m=\u001b[0m\u001b[0mdata\u001b[0m\u001b[1;33m,\u001b[0m \u001b[1;33m**\u001b[0m\u001b[0mkwargs\u001b[0m\u001b[1;33m)\u001b[0m\u001b[1;33m]\u001b[0m\u001b[1;33m\u001b[0m\u001b[1;33m\u001b[0m\u001b[0m\n\u001b[0m\u001b[0;32m   1606\u001b[0m         \u001b[1;32mfor\u001b[0m \u001b[0mline\u001b[0m \u001b[1;32min\u001b[0m \u001b[0mlines\u001b[0m\u001b[1;33m:\u001b[0m\u001b[1;33m\u001b[0m\u001b[1;33m\u001b[0m\u001b[0m\n\u001b[0;32m   1607\u001b[0m             \u001b[0mself\u001b[0m\u001b[1;33m.\u001b[0m\u001b[0madd_line\u001b[0m\u001b[1;33m(\u001b[0m\u001b[0mline\u001b[0m\u001b[1;33m)\u001b[0m\u001b[1;33m\u001b[0m\u001b[1;33m\u001b[0m\u001b[0m\n",
      "\u001b[1;32m~\\anaconda3\\lib\\site-packages\\matplotlib\\axes\\_base.py\u001b[0m in \u001b[0;36m__call__\u001b[1;34m(self, data, *args, **kwargs)\u001b[0m\n\u001b[0;32m    313\u001b[0m                 \u001b[0mthis\u001b[0m \u001b[1;33m+=\u001b[0m \u001b[0margs\u001b[0m\u001b[1;33m[\u001b[0m\u001b[1;36m0\u001b[0m\u001b[1;33m]\u001b[0m\u001b[1;33m,\u001b[0m\u001b[1;33m\u001b[0m\u001b[1;33m\u001b[0m\u001b[0m\n\u001b[0;32m    314\u001b[0m                 \u001b[0margs\u001b[0m \u001b[1;33m=\u001b[0m \u001b[0margs\u001b[0m\u001b[1;33m[\u001b[0m\u001b[1;36m1\u001b[0m\u001b[1;33m:\u001b[0m\u001b[1;33m]\u001b[0m\u001b[1;33m\u001b[0m\u001b[1;33m\u001b[0m\u001b[0m\n\u001b[1;32m--> 315\u001b[1;33m             \u001b[1;32myield\u001b[0m \u001b[1;32mfrom\u001b[0m \u001b[0mself\u001b[0m\u001b[1;33m.\u001b[0m\u001b[0m_plot_args\u001b[0m\u001b[1;33m(\u001b[0m\u001b[0mthis\u001b[0m\u001b[1;33m,\u001b[0m \u001b[0mkwargs\u001b[0m\u001b[1;33m)\u001b[0m\u001b[1;33m\u001b[0m\u001b[1;33m\u001b[0m\u001b[0m\n\u001b[0m\u001b[0;32m    316\u001b[0m \u001b[1;33m\u001b[0m\u001b[0m\n\u001b[0;32m    317\u001b[0m     \u001b[1;32mdef\u001b[0m \u001b[0mget_next_color\u001b[0m\u001b[1;33m(\u001b[0m\u001b[0mself\u001b[0m\u001b[1;33m)\u001b[0m\u001b[1;33m:\u001b[0m\u001b[1;33m\u001b[0m\u001b[1;33m\u001b[0m\u001b[0m\n",
      "\u001b[1;32m~\\anaconda3\\lib\\site-packages\\matplotlib\\axes\\_base.py\u001b[0m in \u001b[0;36m_plot_args\u001b[1;34m(self, tup, kwargs, return_kwargs)\u001b[0m\n\u001b[0;32m    499\u001b[0m \u001b[1;33m\u001b[0m\u001b[0m\n\u001b[0;32m    500\u001b[0m         \u001b[1;32mif\u001b[0m \u001b[0mx\u001b[0m\u001b[1;33m.\u001b[0m\u001b[0mshape\u001b[0m\u001b[1;33m[\u001b[0m\u001b[1;36m0\u001b[0m\u001b[1;33m]\u001b[0m \u001b[1;33m!=\u001b[0m \u001b[0my\u001b[0m\u001b[1;33m.\u001b[0m\u001b[0mshape\u001b[0m\u001b[1;33m[\u001b[0m\u001b[1;36m0\u001b[0m\u001b[1;33m]\u001b[0m\u001b[1;33m:\u001b[0m\u001b[1;33m\u001b[0m\u001b[1;33m\u001b[0m\u001b[0m\n\u001b[1;32m--> 501\u001b[1;33m             raise ValueError(f\"x and y must have same first dimension, but \"\n\u001b[0m\u001b[0;32m    502\u001b[0m                              f\"have shapes {x.shape} and {y.shape}\")\n\u001b[0;32m    503\u001b[0m         \u001b[1;32mif\u001b[0m \u001b[0mx\u001b[0m\u001b[1;33m.\u001b[0m\u001b[0mndim\u001b[0m \u001b[1;33m>\u001b[0m \u001b[1;36m2\u001b[0m \u001b[1;32mor\u001b[0m \u001b[0my\u001b[0m\u001b[1;33m.\u001b[0m\u001b[0mndim\u001b[0m \u001b[1;33m>\u001b[0m \u001b[1;36m2\u001b[0m\u001b[1;33m:\u001b[0m\u001b[1;33m\u001b[0m\u001b[1;33m\u001b[0m\u001b[0m\n",
      "\u001b[1;31mValueError\u001b[0m: x and y must have same first dimension, but have shapes (1,) and (153499,)"
     ]
    },
    {
     "data": {
      "image/png": "[encoded data removed]",
      "text/plain": [
       "<Figure size 432x288 with 1 Axes>"
      ]
     },
     "metadata": {
      "needs_background": "light"
     },
     "output_type": "display_data"
    }
   ],
   "source": []
  },
  {
   "cell_type": "markdown",
   "metadata": {},
   "source": [
    "### 5. Ответьте на следующие вопросы:\n",
    "1) какое слово встречается чаще, \"сотрудник\" или \"клиент\"?\n",
    "2) сколько раз встречается слова \"мошенничество\" и \"доверие\"?"
   ]
  },
  {
   "cell_type": "code",
   "execution_count": 96,
   "metadata": {},
   "outputs": [
    {
     "data": {
      "text/html": [
       "<div>\n",
       "<style scoped>\n",
       "    .dataframe tbody tr th:only-of-type {\n",
       "        vertical-align: middle;\n",
       "    }\n",
       "\n",
       "    .dataframe tbody tr th {\n",
       "        vertical-align: top;\n",
       "    }\n",
       "\n",
       "    .dataframe thead th {\n",
       "        text-align: right;\n",
       "    }\n",
       "</style>\n",
       "<table border=\"1\" class=\"dataframe\">\n",
       "  <thead>\n",
       "    <tr style=\"text-align: right;\">\n",
       "      <th></th>\n",
       "      <th>normal_form</th>\n",
       "      <th>POS</th>\n",
       "      <th>count</th>\n",
       "    </tr>\n",
       "  </thead>\n",
       "  <tbody>\n",
       "    <tr>\n",
       "      <th>67866</th>\n",
       "      <td>сотрудник</td>\n",
       "      <td>NOUN</td>\n",
       "      <td>133662</td>\n",
       "    </tr>\n",
       "    <tr>\n",
       "      <th>35034</th>\n",
       "      <td>клиент</td>\n",
       "      <td>NOUN</td>\n",
       "      <td>132908</td>\n",
       "    </tr>\n",
       "  </tbody>\n",
       "</table>\n",
       "</div>"
      ],
      "text/plain": [
       "      normal_form   POS   count\n",
       "67866   сотрудник  NOUN  133662\n",
       "35034      клиент  NOUN  132908"
      ]
     },
     "execution_count": 96,
     "metadata": {},
     "output_type": "execute_result"
    }
   ],
   "source": [
    "nouns_count[(nouns_count.normal_form == 'сотрудник') | (nouns_count.normal_form == 'клиент')].sort_values(by=['count'], ascending=False)"
   ]
  },
  {
   "cell_type": "code",
   "execution_count": 97,
   "metadata": {},
   "outputs": [
    {
     "data": {
      "text/html": [
       "<div>\n",
       "<style scoped>\n",
       "    .dataframe tbody tr th:only-of-type {\n",
       "        vertical-align: middle;\n",
       "    }\n",
       "\n",
       "    .dataframe tbody tr th {\n",
       "        vertical-align: top;\n",
       "    }\n",
       "\n",
       "    .dataframe thead th {\n",
       "        text-align: right;\n",
       "    }\n",
       "</style>\n",
       "<table border=\"1\" class=\"dataframe\">\n",
       "  <thead>\n",
       "    <tr style=\"text-align: right;\">\n",
       "      <th></th>\n",
       "      <th>normal_form</th>\n",
       "      <th>POS</th>\n",
       "      <th>count</th>\n",
       "    </tr>\n",
       "  </thead>\n",
       "  <tbody>\n",
       "    <tr>\n",
       "      <th>44053</th>\n",
       "      <td>мошенничество</td>\n",
       "      <td>NOUN</td>\n",
       "      <td>3228</td>\n",
       "    </tr>\n",
       "    <tr>\n",
       "      <th>25785</th>\n",
       "      <td>доверие</td>\n",
       "      <td>NOUN</td>\n",
       "      <td>2098</td>\n",
       "    </tr>\n",
       "  </tbody>\n",
       "</table>\n",
       "</div>"
      ],
      "text/plain": [
       "         normal_form   POS  count\n",
       "44053  мошенничество  NOUN   3228\n",
       "25785        доверие  NOUN   2098"
      ]
     },
     "execution_count": 97,
     "metadata": {},
     "output_type": "execute_result"
    }
   ],
   "source": [
    "nouns_count[(nouns_count.normal_form == 'мошенничество') | (nouns_count.normal_form == 'доверие')].sort_values(by=['count'], ascending=False)"
   ]
  },
  {
   "cell_type": "markdown",
   "metadata": {},
   "source": [
    "### 6. В поле \"rating_grade\" записана оценка отзыва по шкале от 1 до 5. \n",
    "Используйте меру tf-idf, для того, чтобы найти ключевые слова и биграмы для положительных отзывов (с оценкой 5) и отрицательных отзывов (с оценкой 1)"
   ]
  },
  {
   "cell_type": "code",
   "execution_count": 34,
   "metadata": {},
   "outputs": [
    {
     "data": {
      "text/plain": [
       "1.0    47387\n",
       "5.0    14713\n",
       "2.0    13509\n",
       "3.0     9261\n",
       "4.0     3788\n",
       "Name: rating_grade, dtype: int64"
      ]
     },
     "execution_count": 34,
     "metadata": {},
     "output_type": "execute_result"
    }
   ],
   "source": [
    "df['rating_grade'].value_counts()"
   ]
  },
  {
   "cell_type": "code",
   "execution_count": 30,
   "metadata": {},
   "outputs": [
    {
     "data": {
      "text/plain": [
       "1.0    14000\n",
       "5.0    14000\n",
       "Name: rating_grade, dtype: int64"
      ]
     },
     "execution_count": 30,
     "metadata": {},
     "output_type": "execute_result"
    }
   ],
   "source": [
    "df_sample = df[(df.rating_grade==1)].sample(n=14000).copy()\n",
    "df_sample = df_sample.append(df[(df.rating_grade==5)].sample(n=14000))\n",
    "\n",
    "df_sample.rating_grade.value_counts()"
   ]
  },
  {
   "cell_type": "code",
   "execution_count": 36,
   "metadata": {},
   "outputs": [
    {
     "data": {
      "text/html": [
       "<div>\n",
       "<style scoped>\n",
       "    .dataframe tbody tr th:only-of-type {\n",
       "        vertical-align: middle;\n",
       "    }\n",
       "\n",
       "    .dataframe tbody tr th {\n",
       "        vertical-align: top;\n",
       "    }\n",
       "\n",
       "    .dataframe thead th {\n",
       "        text-align: right;\n",
       "    }\n",
       "</style>\n",
       "<table border=\"1\" class=\"dataframe\">\n",
       "  <thead>\n",
       "    <tr style=\"text-align: right;\">\n",
       "      <th></th>\n",
       "      <th>city</th>\n",
       "      <th>rating_not_checked</th>\n",
       "      <th>title</th>\n",
       "      <th>num_comments</th>\n",
       "      <th>bank_license</th>\n",
       "      <th>author</th>\n",
       "      <th>bank_name</th>\n",
       "      <th>datetime</th>\n",
       "      <th>text</th>\n",
       "      <th>rating_grade</th>\n",
       "      <th>characters_count</th>\n",
       "      <th>words_count</th>\n",
       "      <th>text_lower</th>\n",
       "    </tr>\n",
       "  </thead>\n",
       "  <tbody>\n",
       "    <tr>\n",
       "      <th>58498</th>\n",
       "      <td>г. Москва</td>\n",
       "      <td>False</td>\n",
       "      <td>Банк не исполняет обязательств, даже по малым ...</td>\n",
       "      <td>9</td>\n",
       "      <td>лицензия № 2581(отозвана)</td>\n",
       "      <td>ВладимирВладимир</td>\n",
       "      <td>С банк</td>\n",
       "      <td>2014-02-07 01:04:00</td>\n",
       "      <td>Весит налоговый платёж в отделении \"Центральны...</td>\n",
       "      <td>1.0</td>\n",
       "      <td>1167</td>\n",
       "      <td>175</td>\n",
       "      <td>весит налоговый платёж в отделении \"центральны...</td>\n",
       "    </tr>\n",
       "    <tr>\n",
       "      <th>40579</th>\n",
       "      <td>г. Хабаровск</td>\n",
       "      <td>False</td>\n",
       "      <td>Ужасное обслуживание. Хабаровск</td>\n",
       "      <td>0</td>\n",
       "      <td>лицензия № 1481</td>\n",
       "      <td>khk</td>\n",
       "      <td>Сбербанк России</td>\n",
       "      <td>2014-07-16 17:57:00</td>\n",
       "      <td>Добрый день!  Суть проблемы в том, что при поп...</td>\n",
       "      <td>1.0</td>\n",
       "      <td>2883</td>\n",
       "      <td>446</td>\n",
       "      <td>добрый день!  суть проблемы в том, что при поп...</td>\n",
       "    </tr>\n",
       "    <tr>\n",
       "      <th>68925</th>\n",
       "      <td>г. Москва</td>\n",
       "      <td>False</td>\n",
       "      <td>Частичное досрочное погашение потребительского...</td>\n",
       "      <td>0</td>\n",
       "      <td>лицензия № 2557</td>\n",
       "      <td>katerina1102114</td>\n",
       "      <td>Ситибанк</td>\n",
       "      <td>2013-11-01 07:19:00</td>\n",
       "      <td>Являюсь бывшим сотрудником и, соответственно, ...</td>\n",
       "      <td>1.0</td>\n",
       "      <td>931</td>\n",
       "      <td>136</td>\n",
       "      <td>являюсь бывшим сотрудником и, соответственно, ...</td>\n",
       "    </tr>\n",
       "    <tr>\n",
       "      <th>83200</th>\n",
       "      <td>г. Москва</td>\n",
       "      <td>False</td>\n",
       "      <td>Опять списали комиссию по страховке!</td>\n",
       "      <td>0</td>\n",
       "      <td>лицензия № 2268</td>\n",
       "      <td>oprst</td>\n",
       "      <td>МТС Банк</td>\n",
       "      <td>2013-05-22 16:30:00</td>\n",
       "      <td>Имею карту МТС-деньги, номер *3301. 24.12.2012...</td>\n",
       "      <td>1.0</td>\n",
       "      <td>1019</td>\n",
       "      <td>140</td>\n",
       "      <td>имею карту мтс-деньги, номер *3301. 24.12.2012...</td>\n",
       "    </tr>\n",
       "    <tr>\n",
       "      <th>146473</th>\n",
       "      <td>None</td>\n",
       "      <td>False</td>\n",
       "      <td>Хамство кассира в оперкассе №5</td>\n",
       "      <td>8</td>\n",
       "      <td>лицензия № 2748</td>\n",
       "      <td>Эмма</td>\n",
       "      <td>Банк Москвы</td>\n",
       "      <td>2007-08-31 13:21:00</td>\n",
       "      <td>Уважаемое руководство банка! Обратите, пожалуй...</td>\n",
       "      <td>1.0</td>\n",
       "      <td>793</td>\n",
       "      <td>130</td>\n",
       "      <td>уважаемое руководство банка! обратите, пожалуй...</td>\n",
       "    </tr>\n",
       "  </tbody>\n",
       "</table>\n",
       "</div>"
      ],
      "text/plain": [
       "                city  rating_not_checked  \\\n",
       "58498      г. Москва               False   \n",
       "40579   г. Хабаровск               False   \n",
       "68925      г. Москва               False   \n",
       "83200      г. Москва               False   \n",
       "146473          None               False   \n",
       "\n",
       "                                                    title  num_comments  \\\n",
       "58498   Банк не исполняет обязательств, даже по малым ...             9   \n",
       "40579                     Ужасное обслуживание. Хабаровск             0   \n",
       "68925   Частичное досрочное погашение потребительского...             0   \n",
       "83200                Опять списали комиссию по страховке!             0   \n",
       "146473                     Хамство кассира в оперкассе №5             8   \n",
       "\n",
       "                     bank_license            author        bank_name  \\\n",
       "58498   лицензия № 2581(отозвана)  ВладимирВладимир           С банк   \n",
       "40579             лицензия № 1481               khk  Сбербанк России   \n",
       "68925             лицензия № 2557   katerina1102114         Ситибанк   \n",
       "83200             лицензия № 2268             oprst         МТС Банк   \n",
       "146473            лицензия № 2748              Эмма      Банк Москвы   \n",
       "\n",
       "                   datetime  \\\n",
       "58498   2014-02-07 01:04:00   \n",
       "40579   2014-07-16 17:57:00   \n",
       "68925   2013-11-01 07:19:00   \n",
       "83200   2013-05-22 16:30:00   \n",
       "146473  2007-08-31 13:21:00   \n",
       "\n",
       "                                                     text  rating_grade  \\\n",
       "58498   Весит налоговый платёж в отделении \"Центральны...           1.0   \n",
       "40579   Добрый день!  Суть проблемы в том, что при поп...           1.0   \n",
       "68925   Являюсь бывшим сотрудником и, соответственно, ...           1.0   \n",
       "83200   Имею карту МТС-деньги, номер *3301. 24.12.2012...           1.0   \n",
       "146473  Уважаемое руководство банка! Обратите, пожалуй...           1.0   \n",
       "\n",
       "        characters_count  words_count  \\\n",
       "58498               1167          175   \n",
       "40579               2883          446   \n",
       "68925                931          136   \n",
       "83200               1019          140   \n",
       "146473               793          130   \n",
       "\n",
       "                                               text_lower  \n",
       "58498   весит налоговый платёж в отделении \"центральны...  \n",
       "40579   добрый день!  суть проблемы в том, что при поп...  \n",
       "68925   являюсь бывшим сотрудником и, соответственно, ...  \n",
       "83200   имею карту мтс-деньги, номер *3301. 24.12.2012...  \n",
       "146473  уважаемое руководство банка! обратите, пожалуй...  "
      ]
     },
     "execution_count": 36,
     "metadata": {},
     "output_type": "execute_result"
    }
   ],
   "source": [
    "df_sample.head()"
   ]
  },
  {
   "cell_type": "code",
   "execution_count": 56,
   "metadata": {},
   "outputs": [],
   "source": [
    "from sklearn.feature_extraction.text import CountVectorizer, TfidfVectorizer"
   ]
  },
  {
   "cell_type": "code",
   "execution_count": 68,
   "metadata": {},
   "outputs": [],
   "source": [
    "df_rating_1 = df_sample[(df_sample.rating_grade==1)]\n",
    "df_rating_5 = df_sample[(df_sample.rating_grade==5)]"
   ]
  },
  {
   "cell_type": "code",
   "execution_count": 76,
   "metadata": {},
   "outputs": [],
   "source": [
    "corpus_rating_1_wo_stopwords = [token for response in df_rating_1.text_lower for token in word_tokenize(response) if not (token in punctuation_upd or token in stopwords_ru)]"
   ]
  },
  {
   "cell_type": "code",
   "execution_count": 80,
   "metadata": {},
   "outputs": [],
   "source": [
    "corpus_rating_5_wo_stopwords = [token for response in df_rating_5.text_lower for token in word_tokenize(response) if not (token in punctuation_upd or token in stopwords_ru)]"
   ]
  },
  {
   "cell_type": "code",
   "execution_count": 81,
   "metadata": {},
   "outputs": [],
   "source": [
    "vec1 = TfidfVectorizer(ngram_range = (1,1))\n",
    "bow1_1 = vec1.fit_transform(corpus_rating_1_wo_stopwords)\n",
    "bow5_1 = vec1.fit_transform(corpus_rating_5_wo_stopwords)"
   ]
  },
  {
   "cell_type": "code",
   "execution_count": 82,
   "metadata": {},
   "outputs": [
    {
     "name": "stdout",
     "output_type": "stream",
     "text": [
      "\n",
      "\n",
      "Words 1-grams for rating_grade 1 : \n",
      "                term          rank\n",
      "15749      вольский  28764.199110\n",
      "15745        вольны  21357.568654\n",
      "28350    замеченную  14845.476503\n",
      "40817    малолетних  11311.395534\n",
      "40818     малолюдно  10453.899633\n",
      "36692  контролирует   8861.315865\n",
      "44093   наблюдалась   8455.686476\n",
      "62815      поджидал   8331.212790\n",
      "28344    замечаются   8071.437515\n",
      "15759        воняет   7074.885852\n"
     ]
    }
   ],
   "source": [
    "sums = bow1_1.sum(axis = 0)\n",
    "data1 = []\n",
    "for col, term in enumerate(vec1.get_feature_names()):\n",
    "    data1.append( (term, sums[0,col] ))\n",
    "ranking = pd.DataFrame(data1, columns = ['term','rank'])\n",
    "words = (ranking.sort_values('rank', ascending = False))\n",
    "print (\"\\n\\nWords 1-grams for rating_grade 1 : \\n\", words.head(10))"
   ]
  },
  {
   "cell_type": "code",
   "execution_count": 83,
   "metadata": {},
   "outputs": [
    {
     "name": "stdout",
     "output_type": "stream",
     "text": [
      "\n",
      "\n",
      "Words 1-grams for rating_grade 5 : \n",
      "           term          rank\n",
      "9638     банка  21300.858336\n",
      "9633      банк  16913.633793\n",
      "100233     это  14942.038530\n",
      "58026    очень  14867.927235\n",
      "22066   деньги   7926.431089\n",
      "34316    карту   7740.960341\n",
      "9650     банке   7311.706066\n",
      "37763   кредит   6929.723271\n",
      "16407    время   6528.011668\n",
      "34322    карты   6463.519395\n"
     ]
    }
   ],
   "source": [
    "sums = bow5_1.sum(axis = 0)\n",
    "data1 = []\n",
    "for col, term in enumerate(vec1.get_feature_names()):\n",
    "    data1.append( (term, sums[0,col] ))\n",
    "ranking = pd.DataFrame(data1, columns = ['term','rank'])\n",
    "words = (ranking.sort_values('rank', ascending = False))\n",
    "print (\"\\n\\nWords 1-grams for rating_grade 5 : \\n\", words.head(10))"
   ]
  },
  {
   "cell_type": "code",
   "execution_count": 84,
   "metadata": {},
   "outputs": [],
   "source": [
    "vec2 = TfidfVectorizer(ngram_range = (2,2))\n",
    "bow1_2 = vec2.fit_transform(corpus_rating_1_wo_stopwords)\n",
    "bow5_2 = vec2.fit_transform(corpus_rating_5_wo_stopwords)"
   ]
  },
  {
   "cell_type": "code",
   "execution_count": 85,
   "metadata": {},
   "outputs": [
    {
     "name": "stdout",
     "output_type": "stream",
     "text": [
      "\n",
      "\n",
      "Words 2-grams for rating_grade 1 : \n",
      "                         term        rank\n",
      "9408               шри ланке  567.000000\n",
      "9407               шри ланка  424.098798\n",
      "7288             полтора два  341.000000\n",
      "2168                   97 70  273.490611\n",
      "7225  подсказкой автозаменой  254.655346\n",
      "1428                   27 24  219.915528\n",
      "2403      fashion fulloption  218.436992\n",
      "7289             полторы две  197.000000\n",
      "2293          cirrus maestro  176.961169\n",
      "1426                   27 11  155.617165\n"
     ]
    }
   ],
   "source": [
    "sums = bow1_2.sum(axis = 0)\n",
    "data1 = []\n",
    "for col, term in enumerate(vec2.get_feature_names()):\n",
    "    data1.append( (term, sums[0,col] ))\n",
    "ranking = pd.DataFrame(data1, columns = ['term','rank'])\n",
    "words = (ranking.sort_values('rank', ascending = False))\n",
    "print (\"\\n\\nWords 2-grams for rating_grade 1 : \\n\", words.head(10))"
   ]
  },
  {
   "cell_type": "code",
   "execution_count": 86,
   "metadata": {},
   "outputs": [
    {
     "name": "stdout",
     "output_type": "stream",
     "text": [
      "\n",
      "\n",
      "Words 2-grams for rating_grade 5 : \n",
      "                term         rank\n",
      "5156  интернет банк  1282.490959\n",
      "9354         что то  1131.992950\n",
      "5043          из за  1109.000000\n",
      "5392         как то   968.000000\n",
      "4243         где то   638.521109\n",
      "4142       все таки   604.000000\n",
      "5724     колл центр   485.532436\n",
      "5404       какие то   441.000000\n",
      "5427       какой то   392.000000\n",
      "3458    альфа банка   383.000000\n"
     ]
    }
   ],
   "source": [
    "sums = bow5_2.sum(axis = 0)\n",
    "data1 = []\n",
    "for col, term in enumerate(vec2.get_feature_names()):\n",
    "    data1.append( (term, sums[0,col] ))\n",
    "ranking = pd.DataFrame(data1, columns = ['term','rank'])\n",
    "words = (ranking.sort_values('rank', ascending = False))\n",
    "print (\"\\n\\nWords 2-grams for rating_grade 5 : \\n\", words.head(10))"
   ]
  },
  {
   "cell_type": "markdown",
   "metadata": {},
   "source": [
    "## Часть 2. Тематическое моделирование \n",
    "Постройте несколько тематических моделей коллекции документов с разным числом тем. Приведите примеры понятных (интерпретируемых) тем. Найдите темы, в которых упомянуты конкретные банки (Сбербанк, ВТБ, другой банк). Можете ли вы их прокомментировать / объяснить? Эта часть задания может быть сделана с использованием gensim."
   ]
  },
  {
   "cell_type": "code",
   "execution_count": 3,
   "metadata": {},
   "outputs": [],
   "source": [
    "from gensim.corpora import Dictionary\n",
    "from gensim.models import TfidfModel\n",
    "from gensim import similarities"
   ]
  },
  {
   "cell_type": "code",
   "execution_count": 9,
   "metadata": {},
   "outputs": [],
   "source": [
    "texts = [text.split() for text in df.text]\n",
    "dictionary = Dictionary(texts)\n",
    "corpus = [dictionary.doc2bow(text) for text in texts]"
   ]
  },
  {
   "cell_type": "code",
   "execution_count": 10,
   "metadata": {},
   "outputs": [],
   "source": [
    "tfidf = TfidfModel(corpus)\n",
    "corpus_tfidf = tfidf[corpus]"
   ]
  },
  {
   "cell_type": "code",
   "execution_count": 11,
   "metadata": {},
   "outputs": [],
   "source": [
    "from gensim.models import lsimodel"
   ]
  },
  {
   "cell_type": "code",
   "execution_count": 25,
   "metadata": {},
   "outputs": [
    {
     "name": "stdout",
     "output_type": "stream",
     "text": [
      "Wall time: 6min 9s\n"
     ]
    }
   ],
   "source": [
    "%%time\n",
    "lsi20 = lsimodel.LsiModel(corpus=corpus_tfidf, id2word=dictionary, num_topics=20)"
   ]
  },
  {
   "cell_type": "code",
   "execution_count": 26,
   "metadata": {},
   "outputs": [
    {
     "data": {
      "text/plain": [
       "[(0,\n",
       "  '0.126*\"-\" + 0.118*\"я\" + 0.113*\"мне\" + 0.089*\"меня\" + 0.085*\"Я\" + 0.085*\"деньги\" + 0.082*\"о\" + 0.081*\"у\" + 0.080*\"все\" + 0.079*\"банка\"'),\n",
       " (1,\n",
       "  '-0.175*\"-\" + 0.145*\"заявление\" + 0.136*\"г.\" + 0.120*\"руб.\" + -0.118*\"вклад\" + 0.112*\"денежных\" + 0.108*\"000\" + 0.107*\"средства\" + 0.107*\"средств\" + 0.101*\"денежные\"'),\n",
       " (2,\n",
       "  '0.231*\"звонки\" + 0.185*\"кредит\" + -0.182*\"деньги\" + -0.168*\"банкомат\" + -0.165*\"карту\" + 0.161*\"номер\" + -0.160*\"карты\" + 0.125*\"мой\" + -0.114*\"карта\" + 0.108*\"телефона\"'),\n",
       " (3,\n",
       "  '0.249*\"номер\" + -0.196*\"кредит\" + 0.167*\"звонки\" + -0.164*\"000\" + -0.147*\"кредита\" + -0.146*\"руб.\" + -0.136*\"сумму\" + 0.127*\"карта\" + 0.127*\"телефона\" + 0.113*\"карту\"'),\n",
       " (4,\n",
       "  '-0.204*\"кредит\" + 0.174*\"вклад\" + 0.168*\"вклада\" + -0.112*\"сказали,\" + 0.111*\"средств\" + 0.104*\"денежных\" + -0.103*\"мне\" + 0.098*\"–\" + 0.095*\"Банка\" + -0.091*\"000\"')]"
      ]
     },
     "execution_count": 26,
     "metadata": {},
     "output_type": "execute_result"
    }
   ],
   "source": [
    "lsi20.show_topics(5)"
   ]
  },
  {
   "cell_type": "raw",
   "metadata": {},
   "source": [
    "Возможные темы:\n",
    "0. эмоции клиентов\n",
    "1. вклады\n",
    "2-3. звонки с предложением о кредите\n",
    "4. информационные сообщения о вкладах"
   ]
  },
  {
   "cell_type": "code",
   "execution_count": 27,
   "metadata": {},
   "outputs": [
    {
     "name": "stdout",
     "output_type": "stream",
     "text": [
      "Wall time: 5min 13s\n"
     ]
    }
   ],
   "source": [
    "%%time\n",
    "lsi35 = lsimodel.LsiModel(corpus=corpus_tfidf, id2word=dictionary, num_topics=35)"
   ]
  },
  {
   "cell_type": "code",
   "execution_count": 28,
   "metadata": {},
   "outputs": [
    {
     "data": {
      "text/plain": [
       "[(0,\n",
       "  '0.126*\"-\" + 0.118*\"я\" + 0.113*\"мне\" + 0.089*\"меня\" + 0.085*\"Я\" + 0.085*\"деньги\" + 0.082*\"о\" + 0.081*\"у\" + 0.080*\"все\" + 0.079*\"банка\"'),\n",
       " (1,\n",
       "  '-0.178*\"-\" + 0.144*\"заявление\" + 0.136*\"г.\" + 0.120*\"руб.\" + -0.116*\"вклад\" + 0.111*\"денежных\" + 0.109*\"000\" + 0.105*\"средств\" + 0.104*\"средства\" + 0.100*\"размере\"'),\n",
       " (2,\n",
       "  '0.230*\"звонки\" + 0.184*\"кредит\" + -0.182*\"деньги\" + -0.171*\"банкомат\" + -0.167*\"карту\" + 0.164*\"номер\" + -0.160*\"карты\" + 0.126*\"мой\" + -0.115*\"карта\" + 0.110*\"телефона\"'),\n",
       " (3,\n",
       "  '0.252*\"номер\" + -0.207*\"кредит\" + 0.169*\"звонки\" + -0.167*\"000\" + -0.152*\"кредита\" + -0.148*\"руб.\" + -0.137*\"сумму\" + 0.131*\"телефона\" + 0.126*\"карта\" + 0.114*\"карту\"'),\n",
       " (4,\n",
       "  '-0.196*\"кредит\" + 0.181*\"вклад\" + 0.176*\"вклада\" + -0.113*\"сказали,\" + 0.111*\"средств\" + -0.106*\"мне\" + 0.105*\"–\" + 0.102*\"денежных\" + 0.096*\"Банка\" + -0.084*\"сказала,\"')]"
      ]
     },
     "execution_count": 28,
     "metadata": {},
     "output_type": "execute_result"
    }
   ],
   "source": [
    "lsi35.show_topics(5)"
   ]
  },
  {
   "cell_type": "markdown",
   "metadata": {},
   "source": [
    "## Часть 3. Классификация текстов"
   ]
  },
  {
   "cell_type": "markdown",
   "metadata": {},
   "source": [
    "Сформулируем для простоты задачу бинарной классификации: будем классифицировать на два класса, то есть, различать резко отрицательные отзывы (с оценкой 1) и положительные отзывы (с оценкой 5).\n",
    "\n",
    "Составьте обучающее и тестовое множество: выберите из всего набора данных N1 отзывов с оценкой 1 и N2 отзывов с оценкой 5 (значение N1 и N2 – на ваше усмотрение). Используйте sklearn.model_selection.train_test_split для разделения множества отобранных документов на обучающее и тестовое.\n",
    "Используйте любой известный вам алгоритм классификации текстов для решения задачи и получите baseline. Сравните разные варианты векторизации текста: использование только униграм, пар или троек слов или с использованием символьных \n",
    "-грам.\n",
    "Сравните, как изменяется качество решения задачи при использовании скрытых тем в качестве признаков:\n",
    "1-ый вариант: \n",
    " преобразование (sklearn.feature_extraction.text.TfidfTransformer) и сингулярное разложение (оно же – латентый семантический анализ) (sklearn.decomposition.TruncatedSVD),\n",
    "2-ой вариант: тематические модели LDA (sklearn.decomposition.LatentDirichletAllocation). Используйте accuracy и F-measure для оценки качества классификации.\n",
    "В ноутбуке, размещенном в папке репозитория. написан примерный Pipeline для классификации текстов.\n",
    "\n",
    "Эта часть задания может быть сделана с использованием sklearn."
   ]
  },
  {
   "cell_type": "code",
   "execution_count": 29,
   "metadata": {},
   "outputs": [],
   "source": [
    "from sklearn.metrics import *\n",
    "from sklearn.model_selection import train_test_split\n",
    "from sklearn.pipeline import Pipeline"
   ]
  },
  {
   "cell_type": "code",
   "execution_count": 32,
   "metadata": {},
   "outputs": [
    {
     "data": {
      "text/plain": [
       "1.0    10000\n",
       "5.0    10000\n",
       "Name: rating_grade, dtype: int64"
      ]
     },
     "execution_count": 32,
     "metadata": {},
     "output_type": "execute_result"
    }
   ],
   "source": [
    "df_sample_10k = df[(df.rating_grade==1)].sample(n=10000).copy()\n",
    "df_sample_10k = df_sample_10k.append(df[(df.rating_grade==5)].sample(n=10000))\n",
    "\n",
    "df_sample_10k.rating_grade.value_counts()"
   ]
  },
  {
   "cell_type": "code",
   "execution_count": 35,
   "metadata": {},
   "outputs": [],
   "source": [
    "x_train, x_test, y_train, y_test = train_test_split(df_sample_10k.text, df_sample_10k.rating_grade, test_size = 0.2)"
   ]
  },
  {
   "cell_type": "code",
   "execution_count": 44,
   "metadata": {},
   "outputs": [],
   "source": [
    "from sklearn.linear_model import LogisticRegression\n",
    "from sklearn.feature_extraction.text import CountVectorizer, TfidfTransformer"
   ]
  },
  {
   "cell_type": "code",
   "execution_count": 40,
   "metadata": {},
   "outputs": [
    {
     "name": "stdout",
     "output_type": "stream",
     "text": [
      "              precision    recall  f1-score   support\n",
      "\n",
      "         1.0       0.96      0.95      0.95      2009\n",
      "         5.0       0.95      0.96      0.95      1991\n",
      "\n",
      "    accuracy                           0.95      4000\n",
      "   macro avg       0.95      0.95      0.95      4000\n",
      "weighted avg       0.95      0.95      0.95      4000\n",
      "\n"
     ]
    }
   ],
   "source": [
    "vec = CountVectorizer(ngram_range=(1, 1))\n",
    "bow = vec.fit_transform(x_train)\n",
    "clf = LogisticRegression(random_state=42, solver='liblinear')\n",
    "clf.fit(bow, y_train)\n",
    "pred = clf.predict(vec.transform(x_test))\n",
    "print(classification_report(pred, y_test))"
   ]
  },
  {
   "cell_type": "code",
   "execution_count": 42,
   "metadata": {},
   "outputs": [
    {
     "name": "stdout",
     "output_type": "stream",
     "text": [
      "              precision    recall  f1-score   support\n",
      "\n",
      "         1.0       0.96      0.95      0.96      2004\n",
      "         5.0       0.95      0.96      0.96      1996\n",
      "\n",
      "    accuracy                           0.96      4000\n",
      "   macro avg       0.96      0.96      0.96      4000\n",
      "weighted avg       0.96      0.96      0.96      4000\n",
      "\n"
     ]
    }
   ],
   "source": [
    "vec = CountVectorizer(analyzer = 'char', ngram_range=(4, 6))\n",
    "bow = vec.fit_transform(x_train)\n",
    "clf = LogisticRegression(random_state=42, solver='liblinear')\n",
    "clf.fit(bow, y_train)\n",
    "pred = clf.predict(vec.transform(x_test))\n",
    "print(classification_report(pred, y_test))"
   ]
  },
  {
   "cell_type": "code",
   "execution_count": 46,
   "metadata": {},
   "outputs": [],
   "source": [
    "from sklearn import svm\n",
    "from sklearn.decomposition import TruncatedSVD, LatentDirichletAllocation\n",
    "from sklearn.pipeline import Pipeline\n",
    "from sklearn.ensemble import RandomForestClassifier"
   ]
  },
  {
   "cell_type": "code",
   "execution_count": 52,
   "metadata": {},
   "outputs": [
    {
     "name": "stdout",
     "output_type": "stream",
     "text": [
      "              precision    recall  f1-score   support\n",
      "\n",
      "         1.0       0.85      0.85      0.85      1973\n",
      "         5.0       0.85      0.85      0.85      2027\n",
      "\n",
      "    accuracy                           0.85      4000\n",
      "   macro avg       0.85      0.85      0.85      4000\n",
      "weighted avg       0.85      0.85      0.85      4000\n",
      "\n"
     ]
    }
   ],
   "source": [
    "# вариант 1\n",
    "clf_tf_idf_TruncatedSVD = Pipeline(\n",
    "    [('vect', CountVectorizer()),\n",
    "     ('tfidf', TfidfTransformer()),\n",
    "     ('tsvd', TruncatedSVD()),\n",
    "     ('clf', LogisticRegression())]\n",
    ")\n",
    "\n",
    "params_tf_idf_TruncatedSVD={\n",
    "    'vect__analyzer': ['word'],\n",
    "    'vect__ngram_range': [(1, 1)],\n",
    "    'tsvd__n_components': [10],\n",
    "    'clf__penalty': ['l1', 'l2']\n",
    "}\n",
    "\n",
    "clf_tf_idf_TruncatedSVD.fit(x_train, y_train)\n",
    "pred=clf_tf_idf_TruncatedSVD.predict(x_test)\n",
    "print(classification_report(pred, y_test))"
   ]
  },
  {
   "cell_type": "code",
   "execution_count": 53,
   "metadata": {},
   "outputs": [
    {
     "name": "stdout",
     "output_type": "stream",
     "text": [
      "              precision    recall  f1-score   support\n",
      "\n",
      "         1.0       0.90      0.86      0.88      2055\n",
      "         5.0       0.86      0.90      0.88      1945\n",
      "\n",
      "    accuracy                           0.88      4000\n",
      "   macro avg       0.88      0.88      0.88      4000\n",
      "weighted avg       0.88      0.88      0.88      4000\n",
      "\n"
     ]
    }
   ],
   "source": [
    "# вариант 2\n",
    "clf_LDA = Pipeline(\n",
    "    [('vect', CountVectorizer()),\n",
    "     ('lda', LatentDirichletAllocation()),\n",
    "     ('clf', LogisticRegression())]\n",
    ")\n",
    "\n",
    "params_clf_LDA={\n",
    "    'vect__analyzer': ['word'],\n",
    "    'vect__max_df': [0.75],\n",
    "    'vect__ngram_range': [(1, 1)],\n",
    "    'lda__n_components' : [25],\n",
    "    'clf__penalty': ['l1']\n",
    "}\n",
    "\n",
    "clf_LDA.fit(x_train, y_train)\n",
    "pred=clf_LDA.predict(x_test)\n",
    "print(classification_report(pred, y_test))"
   ]
  },
  {
   "cell_type": "markdown",
   "metadata": {},
   "source": [
    "вариант 2 - наиболее удачный"
   ]
  }
 ],
 "metadata": {
  "colab": {
   "collapsed_sections": [],
   "name": "HW1_banki_TM-and-classification.ipynb",
   "provenance": []
  },
  "kernelspec": {
   "display_name": "Python 3 (ipykernel)",
   "language": "python",
   "name": "python3"
  },
  "language_info": {
   "codemirror_mode": {
    "name": "ipython",
    "version": 3
   },
   "file_extension": ".py",
   "mimetype": "text/x-python",
   "name": "python",
   "nbconvert_exporter": "python",
   "pygments_lexer": "ipython3",
   "version": "3.9.7"
  }
 },
 "nbformat": 4,
 "nbformat_minor": 1
}
